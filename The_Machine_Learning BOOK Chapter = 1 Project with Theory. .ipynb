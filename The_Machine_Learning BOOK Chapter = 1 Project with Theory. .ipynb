{
 "cells": [
  {
   "cell_type": "code",
   "execution_count": 1,
   "id": "1538ce06",
   "metadata": {},
   "outputs": [
    {
     "data": {
      "text/plain": [
       "'C:\\\\Users\\\\PC'"
      ]
     },
     "execution_count": 1,
     "metadata": {},
     "output_type": "execute_result"
    }
   ],
   "source": [
    "%pwd"
   ]
  },
  {
   "cell_type": "code",
   "execution_count": 2,
   "id": "55d412f7",
   "metadata": {},
   "outputs": [
    {
     "name": "stdout",
     "output_type": "stream",
     "text": [
      "Current Working Directory: C:\\Users\\PC\n",
      "Updated Working Directory: C:\\Users\\PC\\Downloads\\ML1\n"
     ]
    }
   ],
   "source": [
    "import os\n",
    "\n",
    "# Get the current working directory\n",
    "current_directory = os.getcwd()\n",
    "print(f\"Current Working Directory: {current_directory}\")\n",
    "\n",
    "# Change the current working directory to a new path\n",
    "new_directory = \"C:\\\\Users\\\\PC\\\\Downloads\\\\ML1\"\n",
    "os.chdir(new_directory)\n",
    "\n",
    "# Verify the change\n",
    "updated_directory = os.getcwd()\n",
    "print(f\"Updated Working Directory: {updated_directory}\")\n"
   ]
  },
  {
   "cell_type": "code",
   "execution_count": 3,
   "id": "ea52ff52",
   "metadata": {},
   "outputs": [],
   "source": [
    "## Training and running a linear model using scikit-Learn"
   ]
  },
  {
   "cell_type": "code",
   "execution_count": 4,
   "id": "5e28f261",
   "metadata": {},
   "outputs": [],
   "source": [
    "import matplotlib.pyplot as plt\n",
    "import numpy as np\n",
    "import pandas as pd\n",
    "from sklearn.linear_model import LinearRegression"
   ]
  },
  {
   "cell_type": "code",
   "execution_count": 5,
   "id": "bbdacc65",
   "metadata": {},
   "outputs": [],
   "source": [
    "## Download and Prepare the data"
   ]
  },
  {
   "cell_type": "code",
   "execution_count": 6,
   "id": "d5c5ed04",
   "metadata": {},
   "outputs": [],
   "source": [
    "data_root = \"https://github.com/ageron/data/raw/main/\"\n",
    "lifesat = pd.read_csv(data_root + \"lifesat/lifesat.csv\") \n",
    "\n",
    "X = lifesat[[\"GDP per capita (USD)\"]].values\n",
    "y = lifesat[[\"Life satisfaction\"]].values"
   ]
  },
  {
   "cell_type": "code",
   "execution_count": 7,
   "id": "bddc5c18",
   "metadata": {},
   "outputs": [
    {
     "data": {
      "text/plain": [
       "array([[26456.38793813],\n",
       "       [27287.08340093],\n",
       "       [28384.98778463],\n",
       "       [29932.49391006],\n",
       "       [31007.76840654],\n",
       "       [32181.15453723],\n",
       "       [32238.15725928],\n",
       "       [35638.42135118],\n",
       "       [36215.44759073],\n",
       "       [36547.73895598],\n",
       "       [36732.03474403],\n",
       "       [38341.30757041],\n",
       "       [38992.14838075],\n",
       "       [41627.12926943],\n",
       "       [42025.61737306],\n",
       "       [42404.39373816],\n",
       "       [45856.62562648],\n",
       "       [47260.80045844],\n",
       "       [48210.03311134],\n",
       "       [48697.83702825],\n",
       "       [50683.32350972],\n",
       "       [50922.35802345],\n",
       "       [51935.60386182],\n",
       "       [52279.72885136],\n",
       "       [54209.56383573],\n",
       "       [55938.2128086 ],\n",
       "       [60235.7284917 ]])"
      ]
     },
     "execution_count": 7,
     "metadata": {},
     "output_type": "execute_result"
    }
   ],
   "source": [
    "X\n"
   ]
  },
  {
   "cell_type": "code",
   "execution_count": 8,
   "id": "4d24f12a",
   "metadata": {},
   "outputs": [
    {
     "data": {
      "text/plain": [
       "array([[5.8],\n",
       "       [5.4],\n",
       "       [5.5],\n",
       "       [5.9],\n",
       "       [5.6],\n",
       "       [5.4],\n",
       "       [6.1],\n",
       "       [5.7],\n",
       "       [6.3],\n",
       "       [5.9],\n",
       "       [5.9],\n",
       "       [7.2],\n",
       "       [6. ],\n",
       "       [6.8],\n",
       "       [6.5],\n",
       "       [7.3],\n",
       "       [7.4],\n",
       "       [7.6],\n",
       "       [6.9],\n",
       "       [7.3],\n",
       "       [7.3],\n",
       "       [7. ],\n",
       "       [7.1],\n",
       "       [7.5],\n",
       "       [7.4],\n",
       "       [7.6],\n",
       "       [6.9]])"
      ]
     },
     "execution_count": 8,
     "metadata": {},
     "output_type": "execute_result"
    }
   ],
   "source": [
    "y"
   ]
  },
  {
   "cell_type": "code",
   "execution_count": 9,
   "id": "8e9f30a1",
   "metadata": {},
   "outputs": [],
   "source": [
    "# Visualize the data"
   ]
  },
  {
   "cell_type": "code",
   "execution_count": 10,
   "id": "efab604b",
   "metadata": {},
   "outputs": [
    {
     "data": {
      "image/png": "[encoded data removed]",
      "text/plain": [
       "<Figure size 640x480 with 1 Axes>"
      ]
     },
     "metadata": {},
     "output_type": "display_data"
    }
   ],
   "source": [
    "lifesat.plot(kind='scatter', grid=True,\n",
    "            x=\"GDP per capita (USD)\", y=\"Life satisfaction\")\n",
    "plt.axis([23_500, 62_500, 4, 9])\n",
    "plt.show()"
   ]
  },
  {
   "cell_type": "code",
   "execution_count": 11,
   "id": "dac52f62",
   "metadata": {},
   "outputs": [],
   "source": [
    "# Select a linear model\n",
    "model = LinearRegression()\n",
    "\n"
   ]
  },
  {
   "cell_type": "code",
   "execution_count": 12,
   "id": "4ac8cea6",
   "metadata": {},
   "outputs": [
    {
     "data": {
      "text/html": [
       "<style>#sk-container-id-1 {color: black;}#sk-container-id-1 pre{padding: 0;}#sk-container-id-1 div.sk-toggleable {background-color: white;}#sk-container-id-1 label.sk-toggleable__label {cursor: pointer;display: block;width: 100%;margin-bottom: 0;padding: 0.3em;box-sizing: border-box;text-align: center;}#sk-container-id-1 label.sk-toggleable__label-arrow:before {content: \"▸\";float: left;margin-right: 0.25em;color: #696969;}#sk-container-id-1 label.sk-toggleable__label-arrow:hover:before {color: black;}#sk-container-id-1 div.sk-estimator:hover label.sk-toggleable__label-arrow:before {color: black;}#sk-container-id-1 div.sk-toggleable__content {max-height: 0;max-width: 0;overflow: hidden;text-align: left;background-color: #f0f8ff;}#sk-container-id-1 div.sk-toggleable__content pre {margin: 0.2em;color: black;border-radius: 0.25em;background-color: #f0f8ff;}#sk-container-id-1 input.sk-toggleable__control:checked~div.sk-toggleable__content {max-height: 200px;max-width: 100%;overflow: auto;}#sk-container-id-1 input.sk-toggleable__control:checked~label.sk-toggleable__label-arrow:before {content: \"▾\";}#sk-container-id-1 div.sk-estimator input.sk-toggleable__control:checked~label.sk-toggleable__label {background-color: #d4ebff;}#sk-container-id-1 div.sk-label input.sk-toggleable__control:checked~label.sk-toggleable__label {background-color: #d4ebff;}#sk-container-id-1 input.sk-hidden--visually {border: 0;clip: rect(1px 1px 1px 1px);clip: rect(1px, 1px, 1px, 1px);height: 1px;margin: -1px;overflow: hidden;padding: 0;position: absolute;width: 1px;}#sk-container-id-1 div.sk-estimator {font-family: monospace;background-color: #f0f8ff;border: 1px dotted black;border-radius: 0.25em;box-sizing: border-box;margin-bottom: 0.5em;}#sk-container-id-1 div.sk-estimator:hover {background-color: #d4ebff;}#sk-container-id-1 div.sk-parallel-item::after {content: \"\";width: 100%;border-bottom: 1px solid gray;flex-grow: 1;}#sk-container-id-1 div.sk-label:hover label.sk-toggleable__label {background-color: #d4ebff;}#sk-container-id-1 div.sk-serial::before {content: \"\";position: absolute;border-left: 1px solid gray;box-sizing: border-box;top: 0;bottom: 0;left: 50%;z-index: 0;}#sk-container-id-1 div.sk-serial {display: flex;flex-direction: column;align-items: center;background-color: white;padding-right: 0.2em;padding-left: 0.2em;position: relative;}#sk-container-id-1 div.sk-item {position: relative;z-index: 1;}#sk-container-id-1 div.sk-parallel {display: flex;align-items: stretch;justify-content: center;background-color: white;position: relative;}#sk-container-id-1 div.sk-item::before, #sk-container-id-1 div.sk-parallel-item::before {content: \"\";position: absolute;border-left: 1px solid gray;box-sizing: border-box;top: 0;bottom: 0;left: 50%;z-index: -1;}#sk-container-id-1 div.sk-parallel-item {display: flex;flex-direction: column;z-index: 1;position: relative;background-color: white;}#sk-container-id-1 div.sk-parallel-item:first-child::after {align-self: flex-end;width: 50%;}#sk-container-id-1 div.sk-parallel-item:last-child::after {align-self: flex-start;width: 50%;}#sk-container-id-1 div.sk-parallel-item:only-child::after {width: 0;}#sk-container-id-1 div.sk-dashed-wrapped {border: 1px dashed gray;margin: 0 0.4em 0.5em 0.4em;box-sizing: border-box;padding-bottom: 0.4em;background-color: white;}#sk-container-id-1 div.sk-label label {font-family: monospace;font-weight: bold;display: inline-block;line-height: 1.2em;}#sk-container-id-1 div.sk-label-container {text-align: center;}#sk-container-id-1 div.sk-container {/* jupyter's `normalize.less` sets `[hidden] { display: none; }` but bootstrap.min.css set `[hidden] { display: none !important; }` so we also need the `!important` here to be able to override the default hidden behavior on the sphinx rendered scikit-learn.org. See: https://github.com/scikit-learn/scikit-learn/issues/21755 */display: inline-block !important;position: relative;}#sk-container-id-1 div.sk-text-repr-fallback {display: none;}</style><div id=\"sk-container-id-1\" class=\"sk-top-container\"><div class=\"sk-text-repr-fallback\"><pre>LinearRegression()</pre><b>In a Jupyter environment, please rerun this cell to show the HTML representation or trust the notebook. <br />On GitHub, the HTML representation is unable to render, please try loading this page with nbviewer.org.</b></div><div class=\"sk-container\" hidden><div class=\"sk-item\"><div class=\"sk-estimator sk-toggleable\"><input class=\"sk-toggleable__control sk-hidden--visually\" id=\"sk-estimator-id-1\" type=\"checkbox\" checked><label for=\"sk-estimator-id-1\" class=\"sk-toggleable__label sk-toggleable__label-arrow\">LinearRegression</label><div class=\"sk-toggleable__content\"><pre>LinearRegression()</pre></div></div></div></div></div>"
      ],
      "text/plain": [
       "LinearRegression()"
      ]
     },
     "execution_count": 12,
     "metadata": {},
     "output_type": "execute_result"
    }
   ],
   "source": [
    "model.fit(X, y)"
   ]
  },
  {
   "cell_type": "code",
   "execution_count": 13,
   "id": "5b91a89d",
   "metadata": {},
   "outputs": [],
   "source": [
    "## Make a prediction for cyprus"
   ]
  },
  {
   "cell_type": "code",
   "execution_count": 22,
   "id": "77e935a2",
   "metadata": {},
   "outputs": [
    {
     "name": "stdout",
     "output_type": "stream",
     "text": [
      "[[6.33333333]]\n"
     ]
    }
   ],
   "source": [
    "X_new = [[37_655.2]] # Cyprus GDP per capita in 2020\n",
    "print(model.predict(x_new)) # output 6.30"
   ]
  },
  {
   "cell_type": "code",
   "execution_count": 23,
   "id": "11447eb1",
   "metadata": {},
   "outputs": [],
   "source": [
    "## Replacing the linear regression model with k-nearest neighbors regression in the previous code is as easy as replacing these lines:"
   ]
  },
  {
   "cell_type": "code",
   "execution_count": 24,
   "id": "e2121e8a",
   "metadata": {},
   "outputs": [],
   "source": [
    "from sklearn.linear_model import LinearRegression\n",
    "model = LinearRegression()"
   ]
  },
  {
   "cell_type": "code",
   "execution_count": 25,
   "id": "45773680",
   "metadata": {},
   "outputs": [],
   "source": [
    "## with these two:"
   ]
  },
  {
   "cell_type": "code",
   "execution_count": 26,
   "id": "e9c716aa",
   "metadata": {},
   "outputs": [],
   "source": [
    "from sklearn.neighbors import KNeighborsRegressor\n",
    "model = KNeighborsRegressor(n_neighbors=3)"
   ]
  },
  {
   "cell_type": "code",
   "execution_count": 27,
   "id": "55523459",
   "metadata": {},
   "outputs": [
    {
     "name": "stdout",
     "output_type": "stream",
     "text": [
      "[[6.33333333]]\n"
     ]
    }
   ],
   "source": [
    "# Select a 3-Nearest Neighbors regression model\n",
    "from sklearn.neighbors import KNeighborsRegressor\n",
    "\n",
    "model = KNeighborsRegressor(n_neighbors=3)\n",
    "\n",
    "# Train the model\n",
    "model.fit(X, y)\n",
    "\n",
    "# Make a prediction for Cyprus\n",
    "print(model.predict(X_new)) # outputs [[6.33333333]]"
   ]
  },
  {
   "cell_type": "code",
   "execution_count": 29,
   "id": "23052f23",
   "metadata": {},
   "outputs": [],
   "source": [
    "## Generating the data and figures - "
   ]
  },
  {
   "cell_type": "code",
   "execution_count": 30,
   "id": "fb0e78e7",
   "metadata": {},
   "outputs": [],
   "source": [
    "# Create a function to save the figures:"
   ]
  },
  {
   "cell_type": "code",
   "execution_count": 31,
   "id": "b3b3bd35",
   "metadata": {},
   "outputs": [],
   "source": [
    "from pathlib import Path"
   ]
  },
  {
   "cell_type": "code",
   "execution_count": 32,
   "id": "10a6d9d1",
   "metadata": {},
   "outputs": [],
   "source": [
    "## Where to save the figues\n",
    "IMAGES_PATH = Path() / \"images\" / \"fundamentals\"\n",
    "IMAGES_PATH.mkdir(parents = True, exist_ok=True)\n",
    "\n",
    "def savi_fig(fig_id, tight_layout=True, fig_extension=\"png\", resolution=300):\n",
    "    path = IMAGES_PATH / f\"{fig_id}.{fig_extension}\"\n",
    "    if tight_layout:\n",
    "        plt.tight_layout()\n",
    "    plt.savefig(path, format=fig_extension, dpi=resolution)"
   ]
  },
  {
   "cell_type": "code",
   "execution_count": 33,
   "id": "cf588b61",
   "metadata": {},
   "outputs": [],
   "source": [
    "## Load and Prepare Life satisfaction data."
   ]
  },
  {
   "cell_type": "code",
   "execution_count": 34,
   "id": "13ff061e",
   "metadata": {},
   "outputs": [
    {
     "name": "stdout",
     "output_type": "stream",
     "text": [
      "Downloading oecd_bli.csv\n",
      "Downloading gdp_per_capita.csv\n"
     ]
    }
   ],
   "source": [
    "import urllib.request\n",
    "\n",
    "datapath = Path() / \"datasets\" / \"lifesat\"\n",
    "datapath.mkdir(parents=True, exist_ok=True)\n",
    "\n",
    "data_root = \"https://github.com/ageron/data/raw/main/\"\n",
    "for filename in (\"oecd_bli.csv\", \"gdp_per_capita.csv\"):\n",
    "    if not (datapath / filename).is_file():\n",
    "        print(\"Downloading\", filename)\n",
    "        url = data_root + \"lifesat/\" + filename\n",
    "        urllib.request.urlretrieve(url, datapath / filename)"
   ]
  },
  {
   "cell_type": "code",
   "execution_count": 37,
   "id": "bf667f72",
   "metadata": {},
   "outputs": [],
   "source": [
    "oecd_bli = pd.read_csv(datapath / \"oecd_bli.csv\")\n",
    "gdp_per_capita = pd.read_csv(datapath /  \"gdp_per_capita.csv\")"
   ]
  },
  {
   "cell_type": "code",
   "execution_count": 38,
   "id": "820a620f",
   "metadata": {},
   "outputs": [],
   "source": [
    "## Preprocess the GDP per capita data to keep only the year 2020:"
   ]
  },
  {
   "cell_type": "code",
   "execution_count": 39,
   "id": "c93f6b33",
   "metadata": {},
   "outputs": [
    {
     "data": {
      "text/html": [
       "<div>\n",
       "<style scoped>\n",
       "    .dataframe tbody tr th:only-of-type {\n",
       "        vertical-align: middle;\n",
       "    }\n",
       "\n",
       "    .dataframe tbody tr th {\n",
       "        vertical-align: top;\n",
       "    }\n",
       "\n",
       "    .dataframe thead th {\n",
       "        text-align: right;\n",
       "    }\n",
       "</style>\n",
       "<table border=\"1\" class=\"dataframe\">\n",
       "  <thead>\n",
       "    <tr style=\"text-align: right;\">\n",
       "      <th></th>\n",
       "      <th>GDP per capita (USD)</th>\n",
       "    </tr>\n",
       "    <tr>\n",
       "      <th>Country</th>\n",
       "      <th></th>\n",
       "    </tr>\n",
       "  </thead>\n",
       "  <tbody>\n",
       "    <tr>\n",
       "      <th>Afghanistan</th>\n",
       "      <td>1978.961579</td>\n",
       "    </tr>\n",
       "    <tr>\n",
       "      <th>Africa Eastern and Southern</th>\n",
       "      <td>3387.594670</td>\n",
       "    </tr>\n",
       "    <tr>\n",
       "      <th>Africa Western and Central</th>\n",
       "      <td>4003.158913</td>\n",
       "    </tr>\n",
       "    <tr>\n",
       "      <th>Albania</th>\n",
       "      <td>13295.410885</td>\n",
       "    </tr>\n",
       "    <tr>\n",
       "      <th>Algeria</th>\n",
       "      <td>10681.679297</td>\n",
       "    </tr>\n",
       "  </tbody>\n",
       "</table>\n",
       "</div>"
      ],
      "text/plain": [
       "                             GDP per capita (USD)\n",
       "Country                                          \n",
       "Afghanistan                           1978.961579\n",
       "Africa Eastern and Southern           3387.594670\n",
       "Africa Western and Central            4003.158913\n",
       "Albania                              13295.410885\n",
       "Algeria                              10681.679297"
      ]
     },
     "execution_count": 39,
     "metadata": {},
     "output_type": "execute_result"
    }
   ],
   "source": [
    "gdp_year = 2020\n",
    "gdppc_col = \"GDP per capita (USD)\"\n",
    "lifesat_col = \"Life satisfaction\"\n",
    "\n",
    "gdp_per_capita = gdp_per_capita[gdp_per_capita[\"Year\"]==gdp_year]\n",
    "gdp_per_capita = gdp_per_capita.drop([\"Code\", \"Year\"], axis=1)\n",
    "gdp_per_capita.columns = [\"Country\", gdppc_col]\n",
    "gdp_per_capita.set_index(\"Country\", inplace=True)\n",
    "\n",
    "gdp_per_capita.head()"
   ]
  },
  {
   "cell_type": "code",
   "execution_count": 40,
   "id": "ff77543a",
   "metadata": {},
   "outputs": [],
   "source": [
    "## Preprocess the OECD BLI data to keep only the Life satisfaction column:\n"
   ]
  },
  {
   "cell_type": "code",
   "execution_count": 43,
   "id": "4b870c76",
   "metadata": {},
   "outputs": [
    {
     "data": {
      "text/html": [
       "<div>\n",
       "<style scoped>\n",
       "    .dataframe tbody tr th:only-of-type {\n",
       "        vertical-align: middle;\n",
       "    }\n",
       "\n",
       "    .dataframe tbody tr th {\n",
       "        vertical-align: top;\n",
       "    }\n",
       "\n",
       "    .dataframe thead th {\n",
       "        text-align: right;\n",
       "    }\n",
       "</style>\n",
       "<table border=\"1\" class=\"dataframe\">\n",
       "  <thead>\n",
       "    <tr style=\"text-align: right;\">\n",
       "      <th>Indicator</th>\n",
       "      <th>Air pollution</th>\n",
       "      <th>Dwellings without basic facilities</th>\n",
       "      <th>Educational attainment</th>\n",
       "      <th>Employees working very long hours</th>\n",
       "      <th>Employment rate</th>\n",
       "      <th>Feeling safe walking alone at night</th>\n",
       "      <th>Homicide rate</th>\n",
       "      <th>Household net adjusted disposable income</th>\n",
       "      <th>Household net wealth</th>\n",
       "      <th>Housing expenditure</th>\n",
       "      <th>...</th>\n",
       "      <th>Personal earnings</th>\n",
       "      <th>Quality of support network</th>\n",
       "      <th>Rooms per person</th>\n",
       "      <th>Self-reported health</th>\n",
       "      <th>Stakeholder engagement for developing regulations</th>\n",
       "      <th>Student skills</th>\n",
       "      <th>Time devoted to leisure and personal care</th>\n",
       "      <th>Voter turnout</th>\n",
       "      <th>Water quality</th>\n",
       "      <th>Years in education</th>\n",
       "    </tr>\n",
       "    <tr>\n",
       "      <th>Country</th>\n",
       "      <th></th>\n",
       "      <th></th>\n",
       "      <th></th>\n",
       "      <th></th>\n",
       "      <th></th>\n",
       "      <th></th>\n",
       "      <th></th>\n",
       "      <th></th>\n",
       "      <th></th>\n",
       "      <th></th>\n",
       "      <th></th>\n",
       "      <th></th>\n",
       "      <th></th>\n",
       "      <th></th>\n",
       "      <th></th>\n",
       "      <th></th>\n",
       "      <th></th>\n",
       "      <th></th>\n",
       "      <th></th>\n",
       "      <th></th>\n",
       "      <th></th>\n",
       "    </tr>\n",
       "  </thead>\n",
       "  <tbody>\n",
       "    <tr>\n",
       "      <th>Australia</th>\n",
       "      <td>5.0</td>\n",
       "      <td>NaN</td>\n",
       "      <td>81.0</td>\n",
       "      <td>13.04</td>\n",
       "      <td>73.0</td>\n",
       "      <td>63.5</td>\n",
       "      <td>1.1</td>\n",
       "      <td>32759.0</td>\n",
       "      <td>427064.0</td>\n",
       "      <td>20.0</td>\n",
       "      <td>...</td>\n",
       "      <td>49126.0</td>\n",
       "      <td>95.0</td>\n",
       "      <td>NaN</td>\n",
       "      <td>85.0</td>\n",
       "      <td>2.7</td>\n",
       "      <td>502.0</td>\n",
       "      <td>14.35</td>\n",
       "      <td>91.0</td>\n",
       "      <td>93.0</td>\n",
       "      <td>21.0</td>\n",
       "    </tr>\n",
       "    <tr>\n",
       "      <th>Austria</th>\n",
       "      <td>16.0</td>\n",
       "      <td>0.9</td>\n",
       "      <td>85.0</td>\n",
       "      <td>6.66</td>\n",
       "      <td>72.0</td>\n",
       "      <td>80.6</td>\n",
       "      <td>0.5</td>\n",
       "      <td>33541.0</td>\n",
       "      <td>308325.0</td>\n",
       "      <td>21.0</td>\n",
       "      <td>...</td>\n",
       "      <td>50349.0</td>\n",
       "      <td>92.0</td>\n",
       "      <td>1.6</td>\n",
       "      <td>70.0</td>\n",
       "      <td>1.3</td>\n",
       "      <td>492.0</td>\n",
       "      <td>14.55</td>\n",
       "      <td>80.0</td>\n",
       "      <td>92.0</td>\n",
       "      <td>17.0</td>\n",
       "    </tr>\n",
       "    <tr>\n",
       "      <th>Belgium</th>\n",
       "      <td>15.0</td>\n",
       "      <td>1.9</td>\n",
       "      <td>77.0</td>\n",
       "      <td>4.75</td>\n",
       "      <td>63.0</td>\n",
       "      <td>70.1</td>\n",
       "      <td>1.0</td>\n",
       "      <td>30364.0</td>\n",
       "      <td>386006.0</td>\n",
       "      <td>21.0</td>\n",
       "      <td>...</td>\n",
       "      <td>49675.0</td>\n",
       "      <td>91.0</td>\n",
       "      <td>2.2</td>\n",
       "      <td>74.0</td>\n",
       "      <td>2.0</td>\n",
       "      <td>503.0</td>\n",
       "      <td>15.70</td>\n",
       "      <td>89.0</td>\n",
       "      <td>84.0</td>\n",
       "      <td>19.3</td>\n",
       "    </tr>\n",
       "    <tr>\n",
       "      <th>Brazil</th>\n",
       "      <td>10.0</td>\n",
       "      <td>6.7</td>\n",
       "      <td>49.0</td>\n",
       "      <td>7.13</td>\n",
       "      <td>61.0</td>\n",
       "      <td>35.6</td>\n",
       "      <td>26.7</td>\n",
       "      <td>NaN</td>\n",
       "      <td>NaN</td>\n",
       "      <td>NaN</td>\n",
       "      <td>...</td>\n",
       "      <td>NaN</td>\n",
       "      <td>90.0</td>\n",
       "      <td>NaN</td>\n",
       "      <td>NaN</td>\n",
       "      <td>2.2</td>\n",
       "      <td>395.0</td>\n",
       "      <td>NaN</td>\n",
       "      <td>79.0</td>\n",
       "      <td>73.0</td>\n",
       "      <td>16.2</td>\n",
       "    </tr>\n",
       "    <tr>\n",
       "      <th>Canada</th>\n",
       "      <td>7.0</td>\n",
       "      <td>0.2</td>\n",
       "      <td>91.0</td>\n",
       "      <td>3.69</td>\n",
       "      <td>73.0</td>\n",
       "      <td>82.2</td>\n",
       "      <td>1.3</td>\n",
       "      <td>30854.0</td>\n",
       "      <td>423849.0</td>\n",
       "      <td>22.0</td>\n",
       "      <td>...</td>\n",
       "      <td>47622.0</td>\n",
       "      <td>93.0</td>\n",
       "      <td>2.6</td>\n",
       "      <td>88.0</td>\n",
       "      <td>2.9</td>\n",
       "      <td>523.0</td>\n",
       "      <td>14.56</td>\n",
       "      <td>68.0</td>\n",
       "      <td>91.0</td>\n",
       "      <td>17.3</td>\n",
       "    </tr>\n",
       "  </tbody>\n",
       "</table>\n",
       "<p>5 rows × 24 columns</p>\n",
       "</div>"
      ],
      "text/plain": [
       "Indicator  Air pollution  Dwellings without basic facilities  \\\n",
       "Country                                                        \n",
       "Australia            5.0                                 NaN   \n",
       "Austria             16.0                                 0.9   \n",
       "Belgium             15.0                                 1.9   \n",
       "Brazil              10.0                                 6.7   \n",
       "Canada               7.0                                 0.2   \n",
       "\n",
       "Indicator  Educational attainment  Employees working very long hours  \\\n",
       "Country                                                                \n",
       "Australia                    81.0                              13.04   \n",
       "Austria                      85.0                               6.66   \n",
       "Belgium                      77.0                               4.75   \n",
       "Brazil                       49.0                               7.13   \n",
       "Canada                       91.0                               3.69   \n",
       "\n",
       "Indicator  Employment rate  Feeling safe walking alone at night  \\\n",
       "Country                                                           \n",
       "Australia             73.0                                 63.5   \n",
       "Austria               72.0                                 80.6   \n",
       "Belgium               63.0                                 70.1   \n",
       "Brazil                61.0                                 35.6   \n",
       "Canada                73.0                                 82.2   \n",
       "\n",
       "Indicator  Homicide rate  Household net adjusted disposable income  \\\n",
       "Country                                                              \n",
       "Australia            1.1                                   32759.0   \n",
       "Austria              0.5                                   33541.0   \n",
       "Belgium              1.0                                   30364.0   \n",
       "Brazil              26.7                                       NaN   \n",
       "Canada               1.3                                   30854.0   \n",
       "\n",
       "Indicator  Household net wealth  Housing expenditure  ...  Personal earnings  \\\n",
       "Country                                               ...                      \n",
       "Australia              427064.0                 20.0  ...            49126.0   \n",
       "Austria                308325.0                 21.0  ...            50349.0   \n",
       "Belgium                386006.0                 21.0  ...            49675.0   \n",
       "Brazil                      NaN                  NaN  ...                NaN   \n",
       "Canada                 423849.0                 22.0  ...            47622.0   \n",
       "\n",
       "Indicator  Quality of support network  Rooms per person  Self-reported health  \\\n",
       "Country                                                                         \n",
       "Australia                        95.0               NaN                  85.0   \n",
       "Austria                          92.0               1.6                  70.0   \n",
       "Belgium                          91.0               2.2                  74.0   \n",
       "Brazil                           90.0               NaN                   NaN   \n",
       "Canada                           93.0               2.6                  88.0   \n",
       "\n",
       "Indicator  Stakeholder engagement for developing regulations  Student skills  \\\n",
       "Country                                                                        \n",
       "Australia                                                2.7           502.0   \n",
       "Austria                                                  1.3           492.0   \n",
       "Belgium                                                  2.0           503.0   \n",
       "Brazil                                                   2.2           395.0   \n",
       "Canada                                                   2.9           523.0   \n",
       "\n",
       "Indicator  Time devoted to leisure and personal care  Voter turnout  \\\n",
       "Country                                                               \n",
       "Australia                                      14.35           91.0   \n",
       "Austria                                        14.55           80.0   \n",
       "Belgium                                        15.70           89.0   \n",
       "Brazil                                           NaN           79.0   \n",
       "Canada                                         14.56           68.0   \n",
       "\n",
       "Indicator  Water quality  Years in education  \n",
       "Country                                       \n",
       "Australia           93.0                21.0  \n",
       "Austria             92.0                17.0  \n",
       "Belgium             84.0                19.3  \n",
       "Brazil              73.0                16.2  \n",
       "Canada              91.0                17.3  \n",
       "\n",
       "[5 rows x 24 columns]"
      ]
     },
     "execution_count": 43,
     "metadata": {},
     "output_type": "execute_result"
    }
   ],
   "source": [
    "oecd_bli = oecd_bli[oecd_bli[\"INEQUALITY\"]==\"TOT\"]\n",
    "oecd_bli = oecd_bli.pivot(index=\"Country\", columns=\"Indicator\", values=\"Value\")\n",
    "\n",
    "oecd_bli.head()"
   ]
  },
  {
   "cell_type": "markdown",
   "id": "4301fcfb",
   "metadata": {},
   "source": [
    "### Now let's merge the life satisfaction data and the GDP per capita data, keeping only the GDP per capita and Life satisfaction columns"
   ]
  },
  {
   "cell_type": "code",
   "execution_count": 45,
   "id": "9e9a7794",
   "metadata": {},
   "outputs": [
    {
     "data": {
      "text/html": [
       "<div>\n",
       "<style scoped>\n",
       "    .dataframe tbody tr th:only-of-type {\n",
       "        vertical-align: middle;\n",
       "    }\n",
       "\n",
       "    .dataframe tbody tr th {\n",
       "        vertical-align: top;\n",
       "    }\n",
       "\n",
       "    .dataframe thead th {\n",
       "        text-align: right;\n",
       "    }\n",
       "</style>\n",
       "<table border=\"1\" class=\"dataframe\">\n",
       "  <thead>\n",
       "    <tr style=\"text-align: right;\">\n",
       "      <th></th>\n",
       "      <th>GDP per capita (USD)</th>\n",
       "      <th>Life satisfaction</th>\n",
       "    </tr>\n",
       "    <tr>\n",
       "      <th>Country</th>\n",
       "      <th></th>\n",
       "      <th></th>\n",
       "    </tr>\n",
       "  </thead>\n",
       "  <tbody>\n",
       "    <tr>\n",
       "      <th>South Africa</th>\n",
       "      <td>11466.189672</td>\n",
       "      <td>4.7</td>\n",
       "    </tr>\n",
       "    <tr>\n",
       "      <th>Colombia</th>\n",
       "      <td>13441.492952</td>\n",
       "      <td>6.3</td>\n",
       "    </tr>\n",
       "    <tr>\n",
       "      <th>Brazil</th>\n",
       "      <td>14063.982505</td>\n",
       "      <td>6.4</td>\n",
       "    </tr>\n",
       "    <tr>\n",
       "      <th>Mexico</th>\n",
       "      <td>17887.750736</td>\n",
       "      <td>6.5</td>\n",
       "    </tr>\n",
       "    <tr>\n",
       "      <th>Chile</th>\n",
       "      <td>23324.524751</td>\n",
       "      <td>6.5</td>\n",
       "    </tr>\n",
       "  </tbody>\n",
       "</table>\n",
       "</div>"
      ],
      "text/plain": [
       "              GDP per capita (USD)  Life satisfaction\n",
       "Country                                              \n",
       "South Africa          11466.189672                4.7\n",
       "Colombia              13441.492952                6.3\n",
       "Brazil                14063.982505                6.4\n",
       "Mexico                17887.750736                6.5\n",
       "Chile                 23324.524751                6.5"
      ]
     },
     "execution_count": 45,
     "metadata": {},
     "output_type": "execute_result"
    }
   ],
   "source": [
    "full_country_stats = pd.merge(left=oecd_bli, right=gdp_per_capita,\n",
    "                             left_index=True, right_index=True)\n",
    "full_country_stats.sort_values(by=gdppc_col, inplace=True)\n",
    "full_country_stats = full_country_stats[[gdppc_col, lifesat_col]]\n",
    "\n",
    "full_country_stats.head()"
   ]
  },
  {
   "cell_type": "markdown",
   "id": "3e039165",
   "metadata": {},
   "source": [
    "### To illustrate the risk of overfitting, I use only part of the data in most figures (all countries with a GDP per capita between min_gdp and max_gdp). Later in the chapter I reveal the missing countries, and show that they don't follow the same linear trend at all."
   ]
  },
  {
   "cell_type": "code",
   "execution_count": 46,
   "id": "0123faa7",
   "metadata": {},
   "outputs": [
    {
     "data": {
      "text/html": [
       "<div>\n",
       "<style scoped>\n",
       "    .dataframe tbody tr th:only-of-type {\n",
       "        vertical-align: middle;\n",
       "    }\n",
       "\n",
       "    .dataframe tbody tr th {\n",
       "        vertical-align: top;\n",
       "    }\n",
       "\n",
       "    .dataframe thead th {\n",
       "        text-align: right;\n",
       "    }\n",
       "</style>\n",
       "<table border=\"1\" class=\"dataframe\">\n",
       "  <thead>\n",
       "    <tr style=\"text-align: right;\">\n",
       "      <th></th>\n",
       "      <th>GDP per capita (USD)</th>\n",
       "      <th>Life satisfaction</th>\n",
       "    </tr>\n",
       "    <tr>\n",
       "      <th>Country</th>\n",
       "      <th></th>\n",
       "      <th></th>\n",
       "    </tr>\n",
       "  </thead>\n",
       "  <tbody>\n",
       "    <tr>\n",
       "      <th>Russia</th>\n",
       "      <td>26456.387938</td>\n",
       "      <td>5.8</td>\n",
       "    </tr>\n",
       "    <tr>\n",
       "      <th>Greece</th>\n",
       "      <td>27287.083401</td>\n",
       "      <td>5.4</td>\n",
       "    </tr>\n",
       "    <tr>\n",
       "      <th>Turkey</th>\n",
       "      <td>28384.987785</td>\n",
       "      <td>5.5</td>\n",
       "    </tr>\n",
       "    <tr>\n",
       "      <th>Latvia</th>\n",
       "      <td>29932.493910</td>\n",
       "      <td>5.9</td>\n",
       "    </tr>\n",
       "    <tr>\n",
       "      <th>Hungary</th>\n",
       "      <td>31007.768407</td>\n",
       "      <td>5.6</td>\n",
       "    </tr>\n",
       "  </tbody>\n",
       "</table>\n",
       "</div>"
      ],
      "text/plain": [
       "         GDP per capita (USD)  Life satisfaction\n",
       "Country                                         \n",
       "Russia           26456.387938                5.8\n",
       "Greece           27287.083401                5.4\n",
       "Turkey           28384.987785                5.5\n",
       "Latvia           29932.493910                5.9\n",
       "Hungary          31007.768407                5.6"
      ]
     },
     "execution_count": 46,
     "metadata": {},
     "output_type": "execute_result"
    }
   ],
   "source": [
    "min_gdp = 23_500\n",
    "max_gdp = 62_500\n",
    "\n",
    "country_stats = full_country_stats[(full_country_stats[gdppc_col]>= min_gdp) &\n",
    "                                  (full_country_stats[gdppc_col]<= max_gdp)]\n",
    "\n",
    "country_stats.head()"
   ]
  },
  {
   "cell_type": "code",
   "execution_count": 51,
   "id": "209cfb07",
   "metadata": {},
   "outputs": [],
   "source": [
    "country_stats.to_csv(datapath / \"lifesat.csv\")\n",
    "full_country_stats.to_csv(datapath / \"lifesat_full.csv\")"
   ]
  },
  {
   "cell_type": "code",
   "execution_count": 53,
   "id": "45416888",
   "metadata": {},
   "outputs": [
    {
     "data": {
      "image/png": "[encoded data removed]",
      "text/plain": [
       "<Figure size 500x300 with 1 Axes>"
      ]
     },
     "metadata": {},
     "output_type": "display_data"
    }
   ],
   "source": [
    "country_stats.plot(kind='scatter', figsize=(5, 3), grid=True,\n",
    "                   x=gdppc_col, y=lifesat_col)\n",
    "\n",
    "min_life_sat = 4\n",
    "max_life_sat = 9\n",
    "\n",
    "position_text = {\n",
    "    \"Turkey\": (29_500, 4.2),\n",
    "    \"Hungary\": (28_000, 6.9),\n",
    "    \"France\": (40_000, 5),\n",
    "    \"New Zealand\": (28_000, 8.2),\n",
    "    \"Australia\": (50_000, 5.5),\n",
    "    \"United States\": (59_000, 5.3),\n",
    "    \"Denmark\": (46_000, 8.5)\n",
    "}\n",
    "\n",
    "for country, pos_text in position_text.items():\n",
    "    pos_data_x = country_stats[gdppc_col].loc[country]\n",
    "    pos_data_y = country_stats[lifesat_col].loc[country]\n",
    "    country = \"U.S.\" if country == \"United States\" else country\n",
    "    plt.annotate(country, xy=(pos_data_x, pos_data_y),\n",
    "                 xytext=pos_text, fontsize=12,\n",
    "                 arrowprops=dict(facecolor='black', width=0.5,\n",
    "                                 shrink=0.08, headwidth=5))\n",
    "    plt.plot(pos_data_x, pos_data_y, \"ro\")\n",
    "\n",
    "plt.axis([min_gdp, max_gdp, min_life_sat, max_life_sat])\n",
    "\n",
    "#save_fig('money_happy_scatterplot')\n",
    "plt.show()\n"
   ]
  },
  {
   "cell_type": "code",
   "execution_count": 54,
   "id": "5d4ff095",
   "metadata": {},
   "outputs": [
    {
     "data": {
      "text/html": [
       "<div>\n",
       "<style scoped>\n",
       "    .dataframe tbody tr th:only-of-type {\n",
       "        vertical-align: middle;\n",
       "    }\n",
       "\n",
       "    .dataframe tbody tr th {\n",
       "        vertical-align: top;\n",
       "    }\n",
       "\n",
       "    .dataframe thead th {\n",
       "        text-align: right;\n",
       "    }\n",
       "</style>\n",
       "<table border=\"1\" class=\"dataframe\">\n",
       "  <thead>\n",
       "    <tr style=\"text-align: right;\">\n",
       "      <th></th>\n",
       "      <th>GDP per capita (USD)</th>\n",
       "      <th>Life satisfaction</th>\n",
       "    </tr>\n",
       "    <tr>\n",
       "      <th>Country</th>\n",
       "      <th></th>\n",
       "      <th></th>\n",
       "    </tr>\n",
       "  </thead>\n",
       "  <tbody>\n",
       "    <tr>\n",
       "      <th>Turkey</th>\n",
       "      <td>28384.987785</td>\n",
       "      <td>5.5</td>\n",
       "    </tr>\n",
       "    <tr>\n",
       "      <th>Hungary</th>\n",
       "      <td>31007.768407</td>\n",
       "      <td>5.6</td>\n",
       "    </tr>\n",
       "    <tr>\n",
       "      <th>France</th>\n",
       "      <td>42025.617373</td>\n",
       "      <td>6.5</td>\n",
       "    </tr>\n",
       "    <tr>\n",
       "      <th>New Zealand</th>\n",
       "      <td>42404.393738</td>\n",
       "      <td>7.3</td>\n",
       "    </tr>\n",
       "    <tr>\n",
       "      <th>Australia</th>\n",
       "      <td>48697.837028</td>\n",
       "      <td>7.3</td>\n",
       "    </tr>\n",
       "    <tr>\n",
       "      <th>Denmark</th>\n",
       "      <td>55938.212809</td>\n",
       "      <td>7.6</td>\n",
       "    </tr>\n",
       "    <tr>\n",
       "      <th>United States</th>\n",
       "      <td>60235.728492</td>\n",
       "      <td>6.9</td>\n",
       "    </tr>\n",
       "  </tbody>\n",
       "</table>\n",
       "</div>"
      ],
      "text/plain": [
       "               GDP per capita (USD)  Life satisfaction\n",
       "Country                                               \n",
       "Turkey                 28384.987785                5.5\n",
       "Hungary                31007.768407                5.6\n",
       "France                 42025.617373                6.5\n",
       "New Zealand            42404.393738                7.3\n",
       "Australia              48697.837028                7.3\n",
       "Denmark                55938.212809                7.6\n",
       "United States          60235.728492                6.9"
      ]
     },
     "execution_count": 54,
     "metadata": {},
     "output_type": "execute_result"
    }
   ],
   "source": [
    "highlighted_countries = country_stats.loc[list(position_text.keys())]\n",
    "highlighted_countries[[gdppc_col, lifesat_col]].sort_values(by=gdppc_col)"
   ]
  },
  {
   "cell_type": "code",
   "execution_count": 56,
   "id": "81509b47",
   "metadata": {},
   "outputs": [
    {
     "data": {
      "image/png": "[encoded data removed]",
      "text/plain": [
       "<Figure size 500x300 with 1 Axes>"
      ]
     },
     "metadata": {},
     "output_type": "display_data"
    }
   ],
   "source": [
    "country_stats.plot(kind='scatter', figsize=(5, 3), grid=True,\n",
    "                   x=gdppc_col, y=lifesat_col)\n",
    "\n",
    "X = np.linspace(min_gdp, max_gdp, 1000)\n",
    "\n",
    "w1, w2 = 4.2, 0\n",
    "plt.plot(X, w1 + w2 * 1e-5 * X, \"r\")\n",
    "plt.text(40_000, 4.9, fr\"$\\theta_0 = {w1}$\", color=\"r\")\n",
    "plt.text(40_000, 4.4, fr\"$\\theta_1 = {w2}$\", color=\"r\")\n",
    "\n",
    "w1, w2 = 10, -9\n",
    "plt.plot(X, w1 + w2 * 1e-5 * X, \"g\")\n",
    "plt.text(26_000, 8.5, fr\"$\\theta_0 = {w1}$\", color=\"g\")\n",
    "plt.text(26_000, 8.0, fr\"$\\theta_1 = {w2} \\times 10^{{-5}}$\", color=\"g\")\n",
    "\n",
    "w1, w2 = 3, 8\n",
    "plt.plot(X, w1 + w2 * 1e-5 * X, \"b\")\n",
    "plt.text(48_000, 8.5, fr\"$\\theta_0 = {w1}$\", color=\"b\")\n",
    "plt.text(48_000, 8.0, fr\"$\\theta_1 = {w2} \\times 10^{{-5}}$\", color=\"b\")\n",
    "\n",
    "plt.axis([min_gdp, max_gdp, min_life_sat, max_life_sat])\n",
    "\n",
    "#save_fig('tweaking_model_params_plot')\n",
    "plt.show()"
   ]
  },
  {
   "cell_type": "code",
   "execution_count": 59,
   "id": "c1780cd2",
   "metadata": {},
   "outputs": [
    {
     "name": "stdout",
     "output_type": "stream",
     "text": [
      "θ0=3.75, θ1=6.78e-05\n"
     ]
    }
   ],
   "source": [
    "from sklearn import linear_model\n",
    "\n",
    "X_sample = country_stats[[gdppc_col]].values\n",
    "y_sample = country_stats[[lifesat_col]].values\n",
    "\n",
    "lin1 = linear_model.LinearRegression()\n",
    "lin1.fit(X_sample, y_sample)\n",
    "\n",
    "t0, t1 = lin1.intercept_[0], lin1.coef_[0][0]\n",
    "print(f\"θ0={t0:.2f}, θ1={t1:.2e}\")"
   ]
  },
  {
   "cell_type": "code",
   "execution_count": 61,
   "id": "722c6fc9",
   "metadata": {},
   "outputs": [
    {
     "data": {
      "image/png": "[encoded data removed]",
      "text/plain": [
       "<Figure size 500x300 with 1 Axes>"
      ]
     },
     "metadata": {},
     "output_type": "display_data"
    }
   ],
   "source": [
    "country_stats.plot(kind='scatter', figsize=(5, 3), grid=True,\n",
    "                   x=gdppc_col, y=lifesat_col)\n",
    "\n",
    "X = np.linspace(min_gdp, max_gdp, 1000)\n",
    "plt.plot(X, t0 + t1 * X, \"b\")\n",
    "\n",
    "plt.text(max_gdp - 20_000, min_life_sat + 1.9,\n",
    "         fr\"$\\theta_0 = {t0:.2f}$\", color=\"b\")\n",
    "plt.text(max_gdp - 20_000, min_life_sat + 1.3,\n",
    "         fr\"$\\theta_1 = {t1 * 1e5:.2f} \\times 10^{{-5}}$\", color=\"b\")\n",
    "\n",
    "plt.axis([min_gdp, max_gdp, min_life_sat, max_life_sat])\n",
    "\n",
    "#save_fig('best_fit_model_plot')\n",
    "plt.show()"
   ]
  },
  {
   "cell_type": "code",
   "execution_count": 62,
   "id": "207f7428",
   "metadata": {},
   "outputs": [
    {
     "data": {
      "text/plain": [
       "37655.1803457421"
      ]
     },
     "execution_count": 62,
     "metadata": {},
     "output_type": "execute_result"
    }
   ],
   "source": [
    "cyprus_gdp_per_capita = gdp_per_capita[gdppc_col].loc[\"Cyprus\"]\n",
    "cyprus_gdp_per_capita"
   ]
  },
  {
   "cell_type": "code",
   "execution_count": 63,
   "id": "1e1299a9",
   "metadata": {},
   "outputs": [
    {
     "data": {
      "text/plain": [
       "6.301656332738056"
      ]
     },
     "execution_count": 63,
     "metadata": {},
     "output_type": "execute_result"
    }
   ],
   "source": [
    "cyprus_predicted_life_satisfaction = lin1.predict([[cyprus_gdp_per_capita]])[0, 0]\n",
    "cyprus_predicted_life_satisfaction"
   ]
  },
  {
   "cell_type": "code",
   "execution_count": 65,
   "id": "53d7deae",
   "metadata": {},
   "outputs": [
    {
     "data": {
      "image/png": "[encoded data removed]",
      "text/plain": [
       "<Figure size 500x300 with 1 Axes>"
      ]
     },
     "metadata": {},
     "output_type": "display_data"
    }
   ],
   "source": [
    "country_stats.plot(kind='scatter', figsize=(5,3), grid=True,\n",
    "                  x=gdppc_col, y=lifesat_col)\n",
    "\n",
    "X = np.linspace(min_gdp, max_gdp, 1000)\n",
    "plt.plot(X, t0 + t1 * X, \"b\")\n",
    "\n",
    "plt.text(min_gdp + 22_000, max_life_sat - 1.1,\n",
    "         fr\"$\\theta_0 = {t0:.2f}$\", color=\"b\")\n",
    "plt.text(min_gdp + 22_000, max_life_sat - 0.6,\n",
    "         fr\"$\\theta_1 = {t1 * 1e5:.2f} \\times 10^{{-5}}$\", color=\"b\")\n",
    "\n",
    "plt.plot([cyprus_gdp_per_capita, cyprus_gdp_per_capita],\n",
    "         [min_life_sat, cyprus_predicted_life_satisfaction], \"r--\")\n",
    "plt.text(cyprus_gdp_per_capita + 1000, 5.0,\n",
    "         fr\"Prediction = {cyprus_predicted_life_satisfaction:.2f}\", color=\"r\")\n",
    "plt.plot(cyprus_gdp_per_capita, cyprus_predicted_life_satisfaction, \"ro\")\n",
    "\n",
    "plt.axis([min_gdp, max_gdp, min_life_sat, max_life_sat])\n",
    "\n",
    "plt.show()"
   ]
  },
  {
   "cell_type": "code",
   "execution_count": 66,
   "id": "6f8bc802",
   "metadata": {},
   "outputs": [
    {
     "data": {
      "text/html": [
       "<div>\n",
       "<style scoped>\n",
       "    .dataframe tbody tr th:only-of-type {\n",
       "        vertical-align: middle;\n",
       "    }\n",
       "\n",
       "    .dataframe tbody tr th {\n",
       "        vertical-align: top;\n",
       "    }\n",
       "\n",
       "    .dataframe thead th {\n",
       "        text-align: right;\n",
       "    }\n",
       "</style>\n",
       "<table border=\"1\" class=\"dataframe\">\n",
       "  <thead>\n",
       "    <tr style=\"text-align: right;\">\n",
       "      <th></th>\n",
       "      <th>GDP per capita (USD)</th>\n",
       "      <th>Life satisfaction</th>\n",
       "    </tr>\n",
       "    <tr>\n",
       "      <th>Country</th>\n",
       "      <th></th>\n",
       "      <th></th>\n",
       "    </tr>\n",
       "  </thead>\n",
       "  <tbody>\n",
       "    <tr>\n",
       "      <th>South Africa</th>\n",
       "      <td>11466.189672</td>\n",
       "      <td>4.7</td>\n",
       "    </tr>\n",
       "    <tr>\n",
       "      <th>Colombia</th>\n",
       "      <td>13441.492952</td>\n",
       "      <td>6.3</td>\n",
       "    </tr>\n",
       "    <tr>\n",
       "      <th>Brazil</th>\n",
       "      <td>14063.982505</td>\n",
       "      <td>6.4</td>\n",
       "    </tr>\n",
       "    <tr>\n",
       "      <th>Mexico</th>\n",
       "      <td>17887.750736</td>\n",
       "      <td>6.5</td>\n",
       "    </tr>\n",
       "    <tr>\n",
       "      <th>Chile</th>\n",
       "      <td>23324.524751</td>\n",
       "      <td>6.5</td>\n",
       "    </tr>\n",
       "    <tr>\n",
       "      <th>Norway</th>\n",
       "      <td>63585.903514</td>\n",
       "      <td>7.6</td>\n",
       "    </tr>\n",
       "    <tr>\n",
       "      <th>Switzerland</th>\n",
       "      <td>68393.306004</td>\n",
       "      <td>7.5</td>\n",
       "    </tr>\n",
       "    <tr>\n",
       "      <th>Ireland</th>\n",
       "      <td>89688.956958</td>\n",
       "      <td>7.0</td>\n",
       "    </tr>\n",
       "    <tr>\n",
       "      <th>Luxembourg</th>\n",
       "      <td>110261.157353</td>\n",
       "      <td>6.9</td>\n",
       "    </tr>\n",
       "  </tbody>\n",
       "</table>\n",
       "</div>"
      ],
      "text/plain": [
       "              GDP per capita (USD)  Life satisfaction\n",
       "Country                                              \n",
       "South Africa          11466.189672                4.7\n",
       "Colombia              13441.492952                6.3\n",
       "Brazil                14063.982505                6.4\n",
       "Mexico                17887.750736                6.5\n",
       "Chile                 23324.524751                6.5\n",
       "Norway                63585.903514                7.6\n",
       "Switzerland           68393.306004                7.5\n",
       "Ireland               89688.956958                7.0\n",
       "Luxembourg           110261.157353                6.9"
      ]
     },
     "execution_count": 66,
     "metadata": {},
     "output_type": "execute_result"
    }
   ],
   "source": [
    "missing_data = full_country_stats[(full_country_stats[gdppc_col] < min_gdp) |\n",
    "                                  (full_country_stats[gdppc_col] > max_gdp)]\n",
    "missing_data"
   ]
  },
  {
   "cell_type": "code",
   "execution_count": 67,
   "id": "5f268768",
   "metadata": {},
   "outputs": [],
   "source": [
    "position_text_missing_countries = {\n",
    "    \"South Africa\": (20_000, 4.2),\n",
    "    \"Colombia\": (6_000, 8.2),\n",
    "    \"Brazil\": (18_000, 7.8),\n",
    "    \"Mexico\": (24_000, 7.4),\n",
    "    \"Chile\": (30_000, 7.0),\n",
    "    \"Norway\": (51_000, 6.2),\n",
    "    \"Switzerland\": (62_000, 5.7),\n",
    "    \"Ireland\": (81_000, 5.2),\n",
    "    \"Luxembourg\": (92_000, 4.7),\n",
    "}"
   ]
  },
  {
   "cell_type": "code",
   "execution_count": 69,
   "id": "6fed9170",
   "metadata": {},
   "outputs": [
    {
     "data": {
      "image/png": "[encoded data removed]",
      "text/plain": [
       "<Figure size 800x300 with 1 Axes>"
      ]
     },
     "metadata": {},
     "output_type": "display_data"
    }
   ],
   "source": [
    "full_country_stats.plot(kind='scatter', figsize=(8, 3),\n",
    "                        x=gdppc_col, y=lifesat_col, grid=True)\n",
    "\n",
    "for country, pos_text in position_text_missing_countries.items():\n",
    "    pos_data_x, pos_data_y = missing_data.loc[country]\n",
    "    plt.annotate(country, xy=(pos_data_x, pos_data_y),\n",
    "                 xytext=pos_text, fontsize=12,\n",
    "                 arrowprops=dict(facecolor='black', width=0.5,\n",
    "                                 shrink=0.08, headwidth=5))\n",
    "    plt.plot(pos_data_x, pos_data_y, \"rs\")\n",
    "\n",
    "X = np.linspace(0, 115_000, 1000)\n",
    "plt.plot(X, t0 + t1 * X, \"b:\")\n",
    "\n",
    "lin_reg_full = linear_model.LinearRegression()\n",
    "Xfull = np.c_[full_country_stats[gdppc_col]]\n",
    "yfull = np.c_[full_country_stats[lifesat_col]]\n",
    "lin_reg_full.fit(Xfull, yfull)\n",
    "\n",
    "t0full, t1full = lin_reg_full.intercept_[0], lin_reg_full.coef_[0][0]\n",
    "X = np.linspace(0, 115_000, 1000)\n",
    "plt.plot(X, t0full + t1full * X, \"k\")\n",
    "\n",
    "plt.axis([0, 115_000, min_life_sat, max_life_sat])\n",
    "\n",
    "#save_fig('representative_training_data_scatterplot')\n",
    "plt.show()"
   ]
  },
  {
   "cell_type": "code",
   "execution_count": 71,
   "id": "b2a55cdd",
   "metadata": {},
   "outputs": [
    {
     "data": {
      "image/png": "[encoded data removed]",
      "text/plain": [
       "<Figure size 800x300 with 1 Axes>"
      ]
     },
     "metadata": {},
     "output_type": "display_data"
    }
   ],
   "source": [
    "from sklearn import preprocessing\n",
    "from sklearn import pipeline\n",
    "\n",
    "full_country_stats.plot(kind='scatter', figsize=(8, 3),\n",
    "                        x=gdppc_col, y=lifesat_col, grid=True)\n",
    "\n",
    "poly = preprocessing.PolynomialFeatures(degree=10, include_bias=False)\n",
    "scaler = preprocessing.StandardScaler()\n",
    "lin_reg2 = linear_model.LinearRegression()\n",
    "\n",
    "pipeline_reg = pipeline.Pipeline([\n",
    "    ('poly', poly),\n",
    "    ('scal', scaler),\n",
    "    ('lin', lin_reg2)])\n",
    "pipeline_reg.fit(Xfull, yfull)\n",
    "curve = pipeline_reg.predict(X[:, np.newaxis])\n",
    "plt.plot(X, curve)\n",
    "\n",
    "plt.axis([0, 115_000, min_life_sat, max_life_sat])\n",
    "\n",
    "##save_fig('overfitting_model_plot')\n",
    "plt.show()"
   ]
  },
  {
   "cell_type": "code",
   "execution_count": 72,
   "id": "aa35b0ba",
   "metadata": {},
   "outputs": [
    {
     "data": {
      "text/plain": [
       "Country\n",
       "New Zealand    7.3\n",
       "Sweden         7.3\n",
       "Norway         7.6\n",
       "Switzerland    7.5\n",
       "Name: Life satisfaction, dtype: float64"
      ]
     },
     "execution_count": 72,
     "metadata": {},
     "output_type": "execute_result"
    }
   ],
   "source": [
    "w_countries = [c for c in full_country_stats.index if \"W\" in c.upper()]\n",
    "full_country_stats.loc[w_countries][lifesat_col]"
   ]
  },
  {
   "cell_type": "code",
   "execution_count": 73,
   "id": "cf01fbda",
   "metadata": {},
   "outputs": [
    {
     "data": {
      "text/html": [
       "<div>\n",
       "<style scoped>\n",
       "    .dataframe tbody tr th:only-of-type {\n",
       "        vertical-align: middle;\n",
       "    }\n",
       "\n",
       "    .dataframe tbody tr th {\n",
       "        vertical-align: top;\n",
       "    }\n",
       "\n",
       "    .dataframe thead th {\n",
       "        text-align: right;\n",
       "    }\n",
       "</style>\n",
       "<table border=\"1\" class=\"dataframe\">\n",
       "  <thead>\n",
       "    <tr style=\"text-align: right;\">\n",
       "      <th></th>\n",
       "      <th>GDP per capita (USD)</th>\n",
       "    </tr>\n",
       "    <tr>\n",
       "      <th>Country</th>\n",
       "      <th></th>\n",
       "    </tr>\n",
       "  </thead>\n",
       "  <tbody>\n",
       "    <tr>\n",
       "      <th>Malawi</th>\n",
       "      <td>1486.778248</td>\n",
       "    </tr>\n",
       "    <tr>\n",
       "      <th>Rwanda</th>\n",
       "      <td>2098.710362</td>\n",
       "    </tr>\n",
       "    <tr>\n",
       "      <th>Zimbabwe</th>\n",
       "      <td>2744.690758</td>\n",
       "    </tr>\n",
       "    <tr>\n",
       "      <th>Africa Western and Central</th>\n",
       "      <td>4003.158913</td>\n",
       "    </tr>\n",
       "    <tr>\n",
       "      <th>Papua New Guinea</th>\n",
       "      <td>4101.218882</td>\n",
       "    </tr>\n",
       "    <tr>\n",
       "      <th>Lower middle income</th>\n",
       "      <td>6722.809932</td>\n",
       "    </tr>\n",
       "    <tr>\n",
       "      <th>Eswatini</th>\n",
       "      <td>8392.717564</td>\n",
       "    </tr>\n",
       "    <tr>\n",
       "      <th>Low &amp; middle income</th>\n",
       "      <td>10293.855325</td>\n",
       "    </tr>\n",
       "    <tr>\n",
       "      <th>Arab World</th>\n",
       "      <td>13753.707307</td>\n",
       "    </tr>\n",
       "    <tr>\n",
       "      <th>Botswana</th>\n",
       "      <td>16040.008473</td>\n",
       "    </tr>\n",
       "    <tr>\n",
       "      <th>World</th>\n",
       "      <td>16194.040310</td>\n",
       "    </tr>\n",
       "    <tr>\n",
       "      <th>New Zealand</th>\n",
       "      <td>42404.393738</td>\n",
       "    </tr>\n",
       "    <tr>\n",
       "      <th>Sweden</th>\n",
       "      <td>50683.323510</td>\n",
       "    </tr>\n",
       "    <tr>\n",
       "      <th>Norway</th>\n",
       "      <td>63585.903514</td>\n",
       "    </tr>\n",
       "    <tr>\n",
       "      <th>Switzerland</th>\n",
       "      <td>68393.306004</td>\n",
       "    </tr>\n",
       "  </tbody>\n",
       "</table>\n",
       "</div>"
      ],
      "text/plain": [
       "                            GDP per capita (USD)\n",
       "Country                                         \n",
       "Malawi                               1486.778248\n",
       "Rwanda                               2098.710362\n",
       "Zimbabwe                             2744.690758\n",
       "Africa Western and Central           4003.158913\n",
       "Papua New Guinea                     4101.218882\n",
       "Lower middle income                  6722.809932\n",
       "Eswatini                             8392.717564\n",
       "Low & middle income                 10293.855325\n",
       "Arab World                          13753.707307\n",
       "Botswana                            16040.008473\n",
       "World                               16194.040310\n",
       "New Zealand                         42404.393738\n",
       "Sweden                              50683.323510\n",
       "Norway                              63585.903514\n",
       "Switzerland                         68393.306004"
      ]
     },
     "execution_count": 73,
     "metadata": {},
     "output_type": "execute_result"
    }
   ],
   "source": [
    "all_w_countries = [c for c in gdp_per_capita.index if \"W\" in c.upper()]\n",
    "gdp_per_capita.loc[all_w_countries].sort_values(by=gdppc_col)"
   ]
  },
  {
   "cell_type": "code",
   "execution_count": 74,
   "id": "7b985384",
   "metadata": {},
   "outputs": [
    {
     "data": {
      "image/png": "[encoded data removed]",
      "text/plain": [
       "<Figure size 800x300 with 1 Axes>"
      ]
     },
     "metadata": {},
     "output_type": "display_data"
    }
   ],
   "source": [
    "country_stats.plot(kind='scatter', x=gdppc_col, y=lifesat_col, figsize=(8, 3))\n",
    "missing_data.plot(kind='scatter', x=gdppc_col, y=lifesat_col,\n",
    "                  marker=\"s\", color=\"r\", grid=True, ax=plt.gca())\n",
    "\n",
    "X = np.linspace(0, 115_000, 1000)\n",
    "plt.plot(X, t0 + t1*X, \"b:\", label=\"Linear model on partial data\")\n",
    "plt.plot(X, t0full + t1full * X, \"k-\", label=\"Linear model on all data\")\n",
    "\n",
    "ridge = linear_model.Ridge(alpha=10**9.5)\n",
    "X_sample = country_stats[[gdppc_col]]\n",
    "y_sample = country_stats[[lifesat_col]]\n",
    "ridge.fit(X_sample, y_sample)\n",
    "t0ridge, t1ridge = ridge.intercept_[0], ridge.coef_[0][0]\n",
    "plt.plot(X, t0ridge + t1ridge * X, \"b--\",\n",
    "         label=\"Regularized linear model on partial data\")\n",
    "plt.legend(loc=\"lower right\")\n",
    "\n",
    "plt.axis([0, 115_000, min_life_sat, max_life_sat])\n",
    "\n",
    "#save_fig('ridge_model_plot')\n",
    "plt.show()"
   ]
  },
  {
   "cell_type": "code",
   "execution_count": null,
   "id": "8a68529e",
   "metadata": {},
   "outputs": [],
   "source": []
  },
  {
   "cell_type": "code",
   "execution_count": null,
   "id": "c1a5fe0f",
   "metadata": {},
   "outputs": [],
   "source": []
  },
  {
   "cell_type": "code",
   "execution_count": null,
   "id": "99ae1966",
   "metadata": {},
   "outputs": [],
   "source": []
  },
  {
   "cell_type": "code",
   "execution_count": null,
   "id": "0d5f653d",
   "metadata": {},
   "outputs": [],
   "source": []
  },
  {
   "cell_type": "code",
   "execution_count": null,
   "id": "9076c4b0",
   "metadata": {},
   "outputs": [],
   "source": []
  },
  {
   "cell_type": "code",
   "execution_count": null,
   "id": "6e929af9",
   "metadata": {},
   "outputs": [],
   "source": [
    "## Exercises of the Chapter - 1\n"
   ]
  },
  {
   "cell_type": "markdown",
   "id": "d45c2571",
   "metadata": {},
   "source": [
    "## Q1 . How would you define Machine Learning?\n"
   ]
  },
  {
   "cell_type": "markdown",
   "id": "9a690725",
   "metadata": {},
   "source": [
    "Machine Learning can be defined in several ways, but here are a few perspectives that capture its essence:\n",
    "\n",
    "**1. A data-driven approach:** Machine learning is a field of computer science that focuses on **algorithms that learn from data**. Rather than explicitly programming how to perform a task, these algorithms discover patterns and relationships within data to make predictions and decisions without being explicitly told what to do.\n",
    "\n",
    "**2. Continuous improvement:** Machine learning algorithms **iteratively improve their performance** as they are exposed to more data. This allows them to adapt to changing circumstances and become more accurate over time.\n",
    "\n",
    "**3. Automation and generalization:** Machine learning can automate tasks that are complex, time-consuming, or impractical for humans to perform manually. Additionally, trained models can **generalize their knowledge** to new, unseen data, enabling them to handle broader scenarios.\n",
    "\n",
    "**4. Diverse applications:** Machine learning has a wide range of applications across various domains, including:\n",
    "\n",
    "* **Predictive analytics:** Forecasting future events or outcomes based on historical data.\n",
    "* **Computer vision:** Analyzing and understanding images and videos.\n",
    "* **Natural language processing:** Extracting meaning from text and speech.\n",
    "* **Recommender systems:** Personalizing recommendations for products, services, or content.\n",
    "* **Fraud detection:** Identifying suspicious activity and patterns.\n",
    "\n",
    "**Here are some additional points to consider:**\n",
    "\n",
    "* Machine learning is not simply about memorizing data. It involves **identifying underlying patterns and relationships** that can be applied to new situations.\n",
    "* While powerful, machine learning models can also be susceptible to biases present in the data they are trained on. It's crucial to consider the ethical implications and potential limitations of these models.\n",
    "\n",
    "I hope this explanation provides a comprehensive definition of machine learning and its key characteristics. Please let me know if you have any further questions!\n"
   ]
  },
  {
   "cell_type": "markdown",
   "id": "1def0c52",
   "metadata": {},
   "source": [
    "## 2. Can you name four types of problems where it shines?\n"
   ]
  },
  {
   "cell_type": "markdown",
   "id": "760a5655",
   "metadata": {},
   "source": [
    "Machine learning can shine in tackling various challenges, but here are four specific types of problems where it truly excels:\n",
    "\n",
    "**1. Prediction and forecasting:**\n",
    "\n",
    "* **Demand forecasting:** Predicting future demand for products or services to optimize inventory management and resource allocation.\n",
    "* **Financial market analysis:** Identifying patterns and trends in financial data to predict market movements and make informed investment decisions.\n",
    "* **Anomaly detection:** Detecting unusual patterns or deviations from expected behavior in data streams, flagging potential issues for early intervention.\n",
    "* **Disease outbreak prediction:** Analyzing historical data and real-time information to predict and prevent the spread of infectious diseases.\n",
    "\n",
    "**2. Image and video recognition:**\n",
    "\n",
    "* **Facial recognition:** Automatically identifying individuals in images and videos, used for security applications, personalized content delivery, and more.\n",
    "* **Medical image analysis:** Assisting doctors in diagnosing diseases by analyzing medical scans and identifying abnormalities.\n",
    "* **Self-driving cars:** Recognizing objects and navigating roads safely through computer vision algorithms.\n",
    "* **Content moderation:** Automatically detecting and removing inappropriate content from images and videos on social media platforms.\n",
    "\n",
    "**3. Natural language processing:**\n",
    "\n",
    "* **Machine translation:** Automatically translating text from one language to another, breaking down language barriers and facilitating communication.\n",
    "* **Sentiment analysis:** Understanding the emotional tone and sentiment expressed in text, valuable for customer feedback analysis and market research.\n",
    "* **Chatbots and virtual assistants:** Powering conversational AI systems that can understand and respond to user queries and instructions in a natural way.\n",
    "* **Text summarization:** Automatically generating concise summaries of long documents, saving time and improving information access.\n",
    "\n",
    "**4. Personalization and recommendation:**\n",
    "\n",
    "* **Personalized product recommendations:** Suggesting products or services to users based on their individual preferences and past behavior.\n",
    "* **Targeted advertising:** Delivering targeted advertisements to users based on their interests and demographics, increasing advertising effectiveness.\n",
    "* **Content personalization:** tailoring content such as news articles or music recommendations to individual users' preferences.\n",
    "* **Fraud detection:** Identifying fraudulent transactions or activities by analyzing user behavior and financial data patterns.\n",
    "\n",
    "These are just a few examples, and the potential applications of machine learning are constantly evolving. As machine learning techniques continue to advance, we can expect it to play an even more significant role in solving complex problems across diverse fields.\n",
    "\n"
   ]
  },
  {
   "cell_type": "markdown",
   "id": "41eea7fc",
   "metadata": {},
   "source": [
    "## 3. What is a labeled training set?"
   ]
  },
  {
   "cell_type": "markdown",
   "id": "40035870",
   "metadata": {},
   "source": [
    "A labeled training set in machine learning is a crucial component used to train supervised learning models. It's essentially a collection of input data samples, each paired with a corresponding output label or target value. \n",
    "\n",
    "Here's a breakdown of its key features:\n",
    "\n",
    "**1. Input Data Samples:** These are the individual pieces of information your model will learn from. They can be various types of data, including images, text, numerical values, sensor readings, or any combination of these.\n",
    "\n",
    "**2. Output Labels:** Each data sample is associated with a specific label or target value. These labels tell the model what the desired outcome for each sample is. In an image classification task, the labels might be the object categories (e.g., \"cat\", \"dog\", \"car\"). In a sentiment analysis task, the labels might be positive, negative, or neutral.\n",
    "\n",
    "**3. Ground Truth:** The labels represent the \"ground truth\" – the ideal or correct output for each sample. This allows the model to learn the relationship between the input data and the desired output.\n",
    "\n",
    "**4. Training the Model:** Supervised learning models analyze the labeled training set to identify patterns and relationships between the input features and the corresponding labels. Through iterative training processes, the model learns to map the input data to the correct output labels.\n",
    "\n",
    "**5. Importance of Quality:** The quality and composition of the labeled training set significantly impact the performance of the trained model. It's crucial to ensure the data is:\n",
    "\n",
    "* **Large enough:** More data generally leads to more accurate and robust models.\n",
    "* **Representative:** The data should reflect the real-world scenario where the model will be deployed.\n",
    "* **Accurate:** Labels should be correctly assigned to each data point.\n",
    "* **Diverse:** The data should encompass a variety of examples to capture the full range of potential inputs the model might encounter.\n",
    "\n",
    "**In summary, labeled training sets provide the foundational data for supervised learning models, allowing them to learn and make predictions on new, unseen data with improved accuracy.**\n",
    "\n",
    "\n"
   ]
  },
  {
   "cell_type": "markdown",
   "id": "89d73203",
   "metadata": {},
   "source": [
    "## 4. What are the two most common supervised tasks?\n"
   ]
  },
  {
   "cell_type": "markdown",
   "id": "f2605084",
   "metadata": {},
   "source": [
    "In the realm of supervised learning, two tasks reign supreme due to their versatility and widespread applications:\n",
    "\n",
    "**1. Classification:** This task involves assigning a data point to a specific category or class based on its characteristics. It's like sorting objects into different bins based on their properties. Imagine training a model to classify images of animals into \"cat,\" \"dog,\" \"bird,\" etc. \n",
    "\n",
    "Classification problems can be further categorized based on the number of possible classes:\n",
    "\n",
    "* **Binary classification:** Only two possible classes exist (e.g., spam email vs. not spam).\n",
    "* **Multi-class classification:** There are three or more distinct classes (e.g., classifying handwritten digits).\n",
    "\n",
    "**2. Regression:** This task focuses on predicting continuous numerical values based on the relationships learned from the training data. Think of it like drawing a line through a scatter plot that best captures the trend between the input features and the desired output values. A common example is predicting housing prices based on factors like size, location, and amenities.\n",
    "\n",
    "Here's a table summarizing the key differences:\n",
    "\n",
    "| Task | Goal | Output | Example |\n",
    "|---|---|---|---|\n",
    "| Classification | Assign category | Discrete label (\"cat\", \"dog\", etc.) | Image recognition, spam filtering |\n",
    "| Regression | Predict numerical value | Continuous value (housing price, temperature) | Sales forecasting, weather prediction |\n",
    "\n",
    "These two tasks hold immense potential across various domains, making them the most frequently encountered supervised learning practices. \n",
    "\n",
    "\n"
   ]
  },
  {
   "cell_type": "code",
   "execution_count": null,
   "id": "9316b87a",
   "metadata": {},
   "outputs": [],
   "source": [
    "## 5. Can you name four common unsupervised tasks?"
   ]
  },
  {
   "cell_type": "markdown",
   "id": "4d1c7e41",
   "metadata": {},
   "source": [
    "While supervised learning shines with labeled data, unsupervised learning navigates the world of unlabeled data using different strategies. Here are four common unsupervised tasks:\n",
    "\n",
    "**1. Clustering:** This task involves grouping data points with similar characteristics, forming natural clusters within the data. It's like automatically sorting apples, oranges, and bananas into separate baskets based on their shared features (color, shape, etc.). Applications include customer segmentation, market research, and anomaly detection.\n",
    "\n",
    "**2. Dimensionality Reduction:** Imagine you have a huge dataset with many features, making it unwieldy to analyze. Dimensionality reduction aims to find a smaller set of new features that capture the essential information within the original data, essentially simplifying its representation without significant loss of information. This is useful for visualization, data compression, and improving the performance of other algorithms.\n",
    "\n",
    "**3. Association Rule Learning:** This task uncovers hidden relationships and patterns between items within a dataset. It aims to identify rules like \"customers who buy bread also frequently buy milk.\" This is valuable for market basket analysis, recommendation systems, and identifying correlations in complex data sets.\n",
    "\n",
    "**4. Anomaly Detection:** In a world of regular patterns, sometimes things stand out as unusual. Anomaly detection identifies data points that deviate significantly from the expected behavior or patterns learned from the unlabeled data. This is crucial for fraud detection, system failure prediction, and identifying outliers in scientific experiments.\n",
    "\n",
    "These are just some examples, and unsupervised learning holds immense potential for exploring and understanding data without prior knowledge or specific labels. Do you have any particular task or application in mind where you'd like to know more about how these unsupervised techniques can be applied?\n"
   ]
  },
  {
   "cell_type": "markdown",
   "id": "c7d034c6",
   "metadata": {},
   "source": [
    "## 6. What type of Machine Learning algorithm would you use to allow a robot to walk in various unknown terrains?"
   ]
  },
  {
   "cell_type": "markdown",
   "id": "781321a4",
   "metadata": {},
   "source": [
    "While there are multiple options to consider, **reinforcement learning (RL)** is probably the most suitable type of machine learning algorithm for enabling a robot to walk in various unknown terrains. Here's why:\n",
    "\n",
    "**Reasons for using reinforcement learning:**\n",
    "\n",
    "* **Unknown environment:** Since the terrain is unknown, traditional supervised learning approaches relying on pre-labeled data become ineffective. RL, however, allows the robot to learn through trial and error in the actual environment, making it ideal for unpredictable situations.\n",
    "* **Adaptation to different terrains:** RL algorithms excel at adapting to diverse situations. As the robot interacts with the terrain, it receives feedback (rewards or penalties) based on its movement. This feedback helps it learn optimal walking strategies for different types of ground, slopes, obstacles, etc.\n",
    "* **Continuous improvement:** Unlike other algorithms that might get stuck in local optima, RL encourages continuous improvement. The robot constantly explores new walking patterns and refines its behavior based on the latest feedback, enabling it to navigate increasingly complex terrains.\n",
    "\n",
    "**Additional points to consider:**\n",
    "\n",
    "* **Specific RL algorithms:** While RL is the overarching type, specific algorithms within it might be more suitable depending on the robot's capabilities and the complexity of the terrain. Examples include Deep Q-learning, Proximal Policy Optimization (PPO), and Deterministic Policy Gradients (DPG).\n",
    "* **Simulation and real-world training:** Combining simulated environments with real-world testing can accelerate the learning process. The robot can initially learn basic walking principles in a simulated environment and then refine its skills in the actual terrain, minimizing risks and maximizing efficiency.\n",
    "* **Sensor data and feedback:** The quality of sensor data (from vision, LIDAR, etc.) and the design of the reward/penalty system are crucial for effective RL training. Accurate feedback ensures the robot learns the desired behaviors.\n",
    "\n",
    "In conclusion, **reinforcement learning** stands out as the most promising type of machine learning algorithm for enabling robots to walk in unknown terrains. Its ability to adapt, learn through trial and error, and continuously improve makes it ideal for navigating these unpredictable environments.\n",
    "\n"
   ]
  },
  {
   "cell_type": "markdown",
   "id": "ef13f599",
   "metadata": {},
   "source": [
    "### 2nd Ans of the Question------\n",
    "\n",
    "\n",
    "Choosing the ideal machine learning algorithm for a robot walking on unknown terrain depends on several factors, including:\n",
    "\n",
    "**1. Sensor data:** What type of sensors are available on the robot (e.g., cameras, LIDAR, force sensors)? This determines the input data the algorithm can utilize.\n",
    "\n",
    "**2. Terrain complexity:** How diverse and unpredictable are the potential terrains? Does the robot need to handle stairs, rocks, slopes, or even water? \n",
    "\n",
    "**3. Real-time vs. planning:** Should the algorithm make real-time decisions for each step or plan a complete path beforehand?\n",
    "\n",
    "**4. Computational resources:** What processing power and memory are available on the robot? Some algorithms require more resources than others.\n",
    "\n",
    "Based on these factors, here are three potential machine learning approaches for this challenging task:\n",
    "\n",
    "**1. Reinforcement Learning:**\n",
    "\n",
    "* This method is well-suited for unpredictable environments because the robot learns through trial and error. \n",
    "* The robot receives rewards for successful locomotion and penalties for mistakes.\n",
    "* Algorithms like Deep Q-learning or Proximal Policy Optimization (PPO) can be used to train the robot to adapt its walking gait in real-time based on sensor feedback.\n",
    "* Requires a robust simulation environment or controlled physical space for initial training.\n",
    "\n",
    "**2. Model-Based Learning:**\n",
    "\n",
    "* This approach involves building a physical or mathematical model of the robot and its surrounding environment.\n",
    "* The model is then used to predict the consequences of different actions and choose the one that optimizes some reward function, like stability or energy efficiency.\n",
    "* Algorithms like Gaussian Process Regression or Monte Carlo Tree Search can be used for planning optimal trajectories.\n",
    "* Requires accurate modeling of the robot and its dynamics, which can be complex.\n",
    "\n",
    "**3. Hybrid approaches:**\n",
    "\n",
    "* Combining reinforcement learning with model-based methods can leverage the strengths of both.\n",
    "* Reinforcement learning can fine-tune the model's predictions based on real-world experience, while the model can help guide the robot's exploration and decision-making.\n",
    "* This is a promising area of research with many potential advantages.\n",
    "\n",
    "Ultimately, the best algorithm for your specific robot and terrain will depend on your specific needs and constraints. However, the approaches mentioned above are all actively researched and show significant promise in enabling robots to navigate diverse and challenging environments.\n",
    "\n",
    "Do you have any further details about the specific robot and terrain you're interested in? This would help me provide a more specific recommendation for the most suitable machine learning algorithm.\n"
   ]
  },
  {
   "cell_type": "markdown",
   "id": "0565af2b",
   "metadata": {},
   "source": [
    "### ---3rd Ans \n",
    "\n",
    "To enable a robot to walk in various unknown terrains, you would typically employ a type of machine learning algorithm known as Reinforcement Learning (RL). Reinforcement Learning is a branch of machine learning where an agent learns to make decisions by interacting with an environment. The agent takes actions, receives feedback in the form of rewards or penalties, and learns to optimize its behavior over time.\n",
    "\n",
    "For walking in unknown terrains, RL can be used to train the robot to adapt its walking patterns based on the feedback it receives from the environment. The environment in this case would represent the different types of terrains the robot might encounter.\n",
    "\n",
    "Key components of a Reinforcement Learning approach for robot walking include:\n",
    "\n",
    "1. **Agent:** The robot, which takes actions (e.g., adjusting leg movements) to navigate the terrain.\n",
    "\n",
    "2. **State:** The current state of the robot and the environment, which is essential for decision-making. It includes information such as the robot's position, orientation, and any sensors data.\n",
    "\n",
    "3. **Action:** The set of possible actions the robot can take in a given state, such as adjusting leg positions, speed, or direction.\n",
    "\n",
    "4. **Reward:** The feedback the robot receives after taking an action in a specific state. Rewards are used to guide the learning process, encouraging the robot to learn behaviors that lead to positive outcomes.\n",
    "\n",
    "5. **Policy:** The strategy or set of rules that the robot learns to follow, determining its actions in different states.\n",
    "\n",
    "Training a robot to walk in various terrains using RL involves iteratively allowing the robot to explore the environment, receive feedback, and adjust its behavior to maximize cumulative rewards over time. The algorithm learns a policy that helps the robot adapt to different terrains and navigate efficiently.\n",
    "\n",
    "It's important to note that the complexity of the task may require more advanced RL techniques, such as deep reinforcement learning (DRL), where neural networks are used to approximate the policy or value functions. This allows the robot to learn complex and high-dimensional representations of the environment."
   ]
  },
  {
   "cell_type": "markdown",
   "id": "c7a91951",
   "metadata": {},
   "source": [
    "## Q 7. What type of algorithm would you use to segment your customers into multiple groups"
   ]
  },
  {
   "cell_type": "markdown",
   "id": "92bde2b0",
   "metadata": {},
   "source": [
    "## 1st Answer--\n",
    "To segment customers into multiple groups, you would typically use a clustering algorithm. Clustering is an unsupervised learning technique that groups similar data points together based on certain features or characteristics. One popular algorithm for customer segmentation is the **K-Means Clustering** algorithm. Here's a brief overview of how you might use K-Means for customer segmentation:\n",
    "\n",
    "1. **Data Collection and Preparation:**\n",
    "   - Gather relevant data about your customers, such as demographic information, purchase history, online behavior, etc. Prepare the data by cleaning, normalizing, and handling any missing values.\n",
    "\n",
    "2. **Feature Selection:**\n",
    "   - Choose the features (attributes) that will be used for clustering. These features should be relevant to the segmentation goals.\n",
    "\n",
    "3. **Choosing the Number of Clusters (K):**\n",
    "   - Decide on the number of segments or clusters you want to create. This could be based on business knowledge, or you can use methods like the elbow method or silhouette analysis to determine an optimal value for K.\n",
    "\n",
    "4. **Applying K-Means Clustering:**\n",
    "   - Run the K-Means algorithm on the selected features with the chosen value of K. The algorithm will assign each customer to one of the clusters based on the similarity of their features.\n",
    "\n",
    "5. **Analyzing and Interpreting Results:**\n",
    "   - Examine the characteristics of each cluster to understand the common traits or behaviors of customers within each group. This analysis can provide insights into the preferences and needs of different customer segments.\n",
    "\n",
    "6. **Iterative Refinement (Optional):**\n",
    "   - Depending on the results, you may need to iteratively refine the segmentation by adjusting the features or the number of clusters. This process helps improve the meaningfulness of the segments.\n",
    "\n",
    "It's worth noting that besides K-Means, other clustering algorithms like hierarchical clustering, DBSCAN (Density-Based Spatial Clustering of Applications with Noise), or Gaussian Mixture Models can also be used, depending on the nature of the data and the goals of segmentation.\n",
    "\n",
    "Customer segmentation through clustering allows businesses to tailor their marketing strategies, product offerings, and customer interactions to better meet the specific needs and preferences of each identified segment."
   ]
  },
  {
   "cell_type": "markdown",
   "id": "8ca7b717",
   "metadata": {},
   "source": [
    "## ---- 2 nd Ans\n",
    "Choosing the right algorithm for customer segmentation depends on several factors, primarily:\n",
    "\n",
    "**1. Type of data available:**\n",
    "\n",
    "* **Do you have pre-labeled data:** If you have data with existing labels for each customer based on their segment (e.g., high-spending, budget-conscious), you can use **supervised learning** algorithms like K-means clustering, decision trees, or support vector machines (SVMs).\n",
    "* **No pre-labeled data:** If you don't have pre-existing labels, you can use **unsupervised learning** algorithms like hierarchical clustering, density-based spatial clustering of applications with noise (DBSCAN), or anomaly detection.\n",
    "\n",
    "**2. Segmentation goal:**\n",
    "\n",
    "* **Behavioral groups:** Identify similar customer behaviors like purchase frequency, product preferences, or engagement metrics. Use algorithms that capture these similarities, like K-means or DBSCAN.\n",
    "* **Descriptive groups:** Understand and describe distinct customer profiles based on demographics, psychographics, or other attributes. Hierarchical clustering or anomaly detection could be helpful here.\n",
    "* **Predictive groups:** Predict future behavior or response to campaigns based on segmentation. Use supervised learning algorithms like decision trees or SVMs trained on labeled data with known outcomes.\n",
    "\n",
    "**3. Desired number of segments:**\n",
    "\n",
    "* **Predetermined number:** If you have a specific number of segments in mind, K-means with pre-defined cluster count or hierarchical clustering with controlled merging can be appropriate.\n",
    "* **Data-driven number:** If the number of segments should be derived from the data, DBSCAN or other density-based methods can dynamically discover clusters.\n",
    "\n",
    "**Here's a quick overview of potential algorithms based on these factors:**\n",
    "\n",
    "| Data Availability | Segmentation Goal | Desired Number of Segments | Potential Algorithms |\n",
    "|---|---|---|---|\n",
    "| Pre-labeled | Behavioral | Predetermined | K-means, decision trees, SVMs |\n",
    "| Pre-labeled | Behavioral | Data-driven | Hierarchical clustering, DBSCAN |\n",
    "| Pre-labeled | Descriptive | Any | K-means, hierarchical clustering, anomaly detection |\n",
    "| Pre-labeled | Predictive | Any | Decision trees, SVMs |\n",
    "| No labels | Behavioral | Predetermined | K-means, DBSCAN |\n",
    "| No labels | Behavioral | Data-driven | Hierarchical clustering, DBSCAN |\n",
    "| No labels | Descriptive | Any | Hierarchical clustering, anomaly detection |\n",
    "\n",
    "Ultimately, the best algorithm depends on your specific data, goals, and desired outcomes. If you provide more details about your customer data and segmentation objectives, I can help you narrow down the best options and suggest suitable approaches.\n",
    "\n",
    "Remember, there's no \"one size fits all\" solution, so choosing the right algorithm is crucial for successful customer segmentation and extracting valuable insights from your data.\n",
    "\n"
   ]
  },
  {
   "cell_type": "markdown",
   "id": "400779f3",
   "metadata": {},
   "source": [
    "## Q8. Would you frame the problem of spam detection as a supervised learning problem or an unsupervised learning problem?\n"
   ]
  },
  {
   "cell_type": "markdown",
   "id": "b1644e50",
   "metadata": {},
   "source": [
    "## Ans - 1\n",
    "\n",
    "Spam detection is typically framed as a supervised learning problem. In a supervised learning approach, the algorithm is trained on a labeled dataset where each example is associated with a class label (spam or not spam). The model learns to distinguish between spam and non-spam messages based on the features present in the training data.\n",
    "\n",
    "Supervised learning is effective for spam detection because it leverages the labeled examples to learn patterns and relationships between the features and the corresponding class labels. Common supervised learning algorithms for spam detection include support vector machines (SVM), decision trees, and neural networks.\n",
    "\n",
    "On the other hand, unsupervised learning is not commonly used for spam detection because it does not rely on labeled data. Unsupervised learning methods, such as clustering, are more suitable for tasks where the goal is to discover patterns or group similar data points without predefined class labels.\n",
    "\n",
    "In summary, spam detection is generally approached as a supervised learning problem to take advantage of labeled data for training accurate and effective models."
   ]
  },
  {
   "cell_type": "markdown",
   "id": "ff245f2e",
   "metadata": {},
   "source": [
    "## Ans --2\n",
    "The problem of spam detection is most effectively framed as a **supervised learning problem**. Here's why:\n",
    "\n",
    "**Reasons for using supervised learning:**\n",
    "\n",
    "* **Classification task:** Spam detection involves classifying emails as either spam or non-spam (ham). This is a classic binary classification problem, a core strength of supervised learning.\n",
    "* **Labeled data availability:** To train a supervised learning model for spam detection, we need a large dataset of labeled emails. Fortunately, email providers (like Gmail) have vast amounts of data classified by users as spam or ham, which can be used for training.\n",
    "* **Model learning capacity:** Supervised learning allows models to learn from labeled examples and identify patterns that distinguish spam from ham emails. These patterns can include sender information, keywords, language usage, and email formatting.\n",
    "* **Performance measurement:** The effectiveness of spam detection models can be easily measured using metrics like accuracy, precision, and recall. This allows us to compare different algorithms and optimize performance.\n",
    "\n",
    "While unsupervised learning might seem appealing due to the ever-evolving nature of spam techniques, it has limitations:\n",
    "\n",
    "* **Lack of labels:** Unsupervised learning requires unlabeled data, which is less readily available or reliable for this task. Misclassified emails in the training data can mislead the model.\n",
    "* **Difficulty in interpretation:** Unsupervised algorithms can identify clusters of emails based on unknown features, making it harder to understand why specific emails are classified as spam.\n",
    "* **Adaptation to new tactics:** Supervised models can be continuously updated with labeled examples of new spam tactics, allowing them to adapt and maintain high accuracy.\n",
    "\n",
    "Therefore, while both supervised and unsupervised learning techniques have their roles in text analysis, **supervised learning offers the most effective and practical approach for spam detection** due to its reliance on labeled data, proven classification capabilities, and ability to adapt to evolving spam tactics.\n",
    "\n",
    "If you'd like to explore further, I can discuss specific supervised learning algorithms used for spam detection and their advantages and disadvantages!\n"
   ]
  },
  {
   "cell_type": "markdown",
   "id": "f0425bed",
   "metadata": {},
   "source": [
    "## Q9. What is an online learning system? in machine learning."
   ]
  },
  {
   "cell_type": "markdown",
   "id": "4596976c",
   "metadata": {},
   "source": [
    "In machine learning, there are two main approaches to learning: **batch learning** and **online learning**. They differ in how they utilize data and update models.\n",
    "\n",
    "**Batch learning**, the more traditional approach, works with the entire dataset at once. It trains the model by iterating through the entire dataset multiple times, updating the model parameters with each pass. While effective for static datasets, batch learning can be inefficient for:\n",
    "\n",
    "* **Large datasets:** Processing the entire dataset multiple times can be computationally expensive and time-consuming.\n",
    "* **Dynamic data:** If the data changes over time, the model won't adapt unless retrained entirely with the new data.\n",
    "\n",
    "**Online learning**, on the other hand, addresses these limitations by processing data **incrementally, one at a time**. As each data point arrives, the model updates its parameters immediately based on the new information. This approach offers several advantages:\n",
    "\n",
    "* **Efficiency:** Processing data point by point reduces computational cost and training time, especially for large datasets.\n",
    "* **Adaptability:** The model continuously updates with new information, making it ideal for dynamic data streams or rapidly changing environments.\n",
    "* **Real-time applications:** Online learning enables real-time predictions and decision-making, essential for applications like fraud detection, stock market analysis, and robot control.\n",
    "\n",
    "However, online learning also has some drawbacks:\n",
    "\n",
    "* **Memory requirements:** Storing and processing data points individually can put pressure on memory resources.\n",
    "* **Parameter instability:** Constant updates due to each data point can lead to unstable model parameters, especially for small datasets.\n",
    "* **Convergence challenges:** Ensuring the model converges to an optimal solution can be trickier in online learning compared to batch learning.\n",
    "\n",
    "Despite these challenges, online learning is a powerful tool for various applications. Popular examples include:\n",
    "\n",
    "* **Recommendation systems:** Online learning updates recommendations based on user interactions in real-time.\n",
    "* **Fraud detection:** Models adapt to new fraud patterns as they appear in transaction data.\n",
    "* **Time series forecasting:** Online learning continuously updates predictions based on incoming data points.\n",
    "\n",
    "When choosing between online and batch learning, consider the size and dynamism of your data, desired model update frequency, and computational resources available.\n",
    "\n",
    "\n"
   ]
  },
  {
   "cell_type": "markdown",
   "id": "daf82471",
   "metadata": {},
   "source": [
    "## Q10 . What is out-of-core learning? in machine Learning."
   ]
  },
  {
   "cell_type": "markdown",
   "id": "81356aa2",
   "metadata": {},
   "source": [
    "Out-of-core learning is a technique in machine learning that allows you to train models on datasets that cannot fit entirely in the main memory (RAM) of a single computer. This becomes crucial when dealing with **extremely large datasets**, often exceeding terabytes in size.\n",
    "\n",
    "Here's how it works:\n",
    "\n",
    "* **Data chunking:** The massive dataset is divided into smaller chunks that can fit in the available RAM.\n",
    "* **Incremental training:** Each chunk is loaded into memory and used to train the model for a specific number of iterations.\n",
    "* **Model updates:** The model parameters are updated based on the learning from the current chunk.\n",
    "* **Discard and repeat:** After processing the chunk, it's discarded from memory, and the next chunk is loaded for training. This process continues until all chunks have been processed.\n",
    "\n",
    "**Benefits of out-of-core learning:**\n",
    "\n",
    "* **Handles large datasets:** It allows you to train models on massive datasets that would otherwise be impossible to handle on a single machine.\n",
    "* **Cost-effective:** Utilizing existing hardware resources instead of investing in high-end machines with massive RAM saves cost.\n",
    "* **Scalability:** Out-of-core algorithms can be easily scaled to larger datasets by increasing the number of machines or processing power.\n",
    "\n",
    "**Challenges of out-of-core learning:**\n",
    "\n",
    "* **Performance:** Frequent data loading and unloading can be slower than processing data entirely in memory.\n",
    "* **Algorithmic limitations:** Not all machine learning algorithms are readily adaptable to out-of-core implementations.\n",
    "* **Complexity:** Implementing and optimizing out-of-core algorithms can be more complex than traditional in-memory training.\n",
    "\n",
    "**Examples of out-of-core learning applications:**\n",
    "\n",
    "* **Recommender systems for large user bases**\n",
    "* **Natural language processing tasks with massive text datasets**\n",
    "* **Image and video analysis with high-resolution data**\n",
    "* **Scientific computing with complex simulations**\n",
    "\n",
    "Overall, out-of-core learning is a powerful technique that enables you to tackle massive datasets and unlock valuable insights from them. However, it's important to consider the challenges and limitations before implementing it in your projects.\n",
    "\n",
    "\n"
   ]
  },
  {
   "cell_type": "markdown",
   "id": "b7a121d7",
   "metadata": {},
   "source": [
    "## Q11. What type of learning algorithm relies on a similarity measure to make predictions?"
   ]
  },
  {
   "cell_type": "markdown",
   "id": "5eb32f2f",
   "metadata": {},
   "source": [
    "The type of learning algorithm that relies on a similarity measure to make predictions is an **instance-based learning** algorithm. \n",
    "\n",
    "Here's why:\n",
    "\n",
    "* **Focus on similarity:** Instance-based algorithms store all training data points in memory. When presented with a new data point, they compare it to existing points using **similarity measures** like Euclidean distance, cosine similarity, or Jaccard similarity.\n",
    "* **Prediction based on neighbors:** The algorithm identifies the k nearest neighbors to the new data point based on the chosen similarity measure. These neighbors are assumed to be the most relevant to the new point.\n",
    "* **Prediction from neighbors:** Depending on the task, the algorithm can make predictions about the new data point in different ways:\n",
    "    * **Classification:** The majority class among the k nearest neighbors determines the predicted class for the new point.\n",
    "    * **Regression:** The average value of the k nearest neighbors for the target variable becomes the predicted value for the new point.\n",
    "    * **Other tasks:** Similar approaches can be used for tasks like anomaly detection or clustering.\n",
    "\n",
    "Some commonly used instance-based learning algorithms include:\n",
    "\n",
    "* **k-Nearest Neighbors (k-NN):** This is the most popular instance-based algorithm, where k determines the number of neighbors used for prediction.\n",
    "* **Support Vector Machines (SVMs):** While often categorized as a different type of algorithm, SVMs can be implemented in an instance-based way, using kernel functions to measure similarity.\n",
    "* **Locally Weighted Regression (LWR):** This algorithm assigns weights to neighbors based on their distance from the new point, giving more importance to closer neighbors for prediction.\n",
    "\n",
    "**Advantages of instance-based learning:**\n",
    "\n",
    "* **Simple and intuitive:** The concept of using similar neighbors for prediction is easy to understand.\n",
    "* **No model training required:** Unlike other algorithms that require explicit model building, instance-based algorithms simply store the training data.\n",
    "* **Flexible for various tasks:** They can be used for both classification and regression, as well as other tasks with appropriate adaptations.\n",
    "\n",
    "**Disadvantages of instance-based learning:**\n",
    "\n",
    "* **High memory requirements:** Storing all training data in memory can be computationally expensive, especially for large datasets.\n",
    "* **Sensitivity to irrelevant features:** Features that are irrelevant to the task but affect similarity measures can mislead the algorithm.\n",
    "* **Computational cost of prediction:** Finding nearest neighbors can be computationally expensive for large datasets.\n",
    "\n",
    "Overall, instance-based learning algorithms are a powerful tool for tasks where similarity plays a crucial role in prediction. Their simplicity, flexibility, and lack of explicit model training make them attractive for various applications. However, their resource demands and sensitivity to irrelevant features should be considered when choosing this approach.\n",
    "\n"
   ]
  },
  {
   "cell_type": "markdown",
   "id": "d9efdb75",
   "metadata": {},
   "source": [
    "## Q12.  What is the difference between a model parameter and a learning algorithm’s hyperparameter?"
   ]
  },
  {
   "cell_type": "markdown",
   "id": "7d7b5e6d",
   "metadata": {},
   "source": [
    "The distinction between a model parameter and a learning algorithm's hyperparameter is crucial in machine learning. While both influence the final outcome, they differ in terms of their origin, function, and how they're set.\n",
    "\n",
    "**Model Parameters:**\n",
    "\n",
    "* **Origin:** Are **learned** from the training data during the training process.\n",
    "* **Function:** Directly influence the model's predictions or outputs.\n",
    "* **Setting:** Automatically adjusted by the chosen learning algorithm to minimize the error between the model's predictions and the actual data.\n",
    "* **Examples:** In linear regression, the slope and intercept are model parameters; in a neural network, they are the weights and biases associated with each node.\n",
    "\n",
    "**Hyperparameters:**\n",
    "\n",
    "* **Origin:** Are **manually specified** before training the model.\n",
    "* **Function:** Control the learning process itself, influencing the model's learning capacity, complexity, and performance.\n",
    "* **Setting:** Chosen based on prior knowledge, domain expertise, or experimentation to optimize the model's performance on the task at hand.\n",
    "* **Examples:** In k-Nearest Neighbors, the number of neighbors (k) is a hyperparameter; in neural networks, the learning rate, network architecture, and number of hidden layers are hyperparameters.\n",
    "\n",
    "Here's an analogy to understand the difference:\n",
    "\n",
    "* **Think of a model parameter as the chef's recipe.** It contains the specific instructions (weights, biases) for preparing a dish (prediction).\n",
    "* **Think of a hyperparameter as the cooking temperature.** It affects how the recipe (learning process) unfolds, ultimately influencing the quality and taste of the dish (model performance).\n",
    "\n",
    "**Key Differences:**\n",
    "\n",
    "| Feature | Model Parameter | Hyperparameter |\n",
    "|---|---|---|\n",
    "| Origin | Learned from data | Set manually |\n",
    "| Function | Influences predictions | Controls learning process |\n",
    "| Setting | Automatic | Manual |\n",
    "| Example | Weights, biases | Learning rate, network architecture |\n",
    "\n",
    "Ultimately, both model parameters and hyperparameters play vital roles in machine learning. Understanding their differences helps you optimize your model and achieve the desired results.\n",
    "\n",
    "\n"
   ]
  },
  {
   "cell_type": "markdown",
   "id": "45544587",
   "metadata": {},
   "source": [
    "## Q13. What do model-based learning algorithms search for? What is the most common strategy they use to succeed? How do they make predictions?"
   ]
  },
  {
   "cell_type": "markdown",
   "id": "1776ef73",
   "metadata": {},
   "source": [
    "Model-based learning algorithms in machine learning are all about finding the **optimal settings for a pre-defined model** that best describes the underlying relationship between your data points. They excel at tasks where this relationship can be expressed as a mathematical function or equation.\n",
    "\n",
    "Here's a breakdown of their key aspects:\n",
    "\n",
    "**1. What they search for:**\n",
    "\n",
    "* **Optimal model parameters:** These parameters define the specific details of the chosen model (e.g., weights in a linear regression or coefficients in a polynomial equation).\n",
    "* **Minimum cost or error:** Model-based algorithms aim to minimize a cost function or error metric that quantifies the discrepancy between the model's predictions and the actual data.\n",
    "\n",
    "**2. Common strategies for success:**\n",
    "\n",
    "* **Gradient descent:** This iterative technique adjusts the model parameters in the direction that minimizes the cost function, gradually \"climbing down\" the error landscape towards the optimal settings.\n",
    "* **Newton-Raphson method:** This approach uses the curvature of the cost function to make quicker jumps towards the minimum, but requires more complex calculations.\n",
    "* **Expectation-maximization (EM) algorithm:** Used for models with hidden variables, it iteratively alternates between estimating the hidden variables and updating the model parameters based on these estimates.\n",
    "\n",
    "**3. How they make predictions:**\n",
    "\n",
    "* Once the optimal model parameters are found, they are plugged into the chosen model.\n",
    "* When presented with new data points, the model uses these parameters to generate predictions according to its mathematical function or equation.\n",
    "\n",
    "**Examples of model-based learning algorithms:**\n",
    "\n",
    "* **Linear regression:** Finds the relationship between a single dependent variable and one or more independent variables through a linear equation.\n",
    "* **Logistic regression:** Models the probability of an event occurring based on several factors, used for binary classification tasks.\n",
    "* **Support vector machines (SVMs):** Find a hyperplane that optimally separates different classes in data, used for both classification and regression.\n",
    "* **Neural networks:** Complex models with interconnected layers that learn complex relationships from data, suitable for various tasks including image recognition and natural language processing.\n",
    "\n",
    "**Strengths of model-based learning:**\n",
    "\n",
    "* **Interpretability:** The model parameters offer some insights into the nature of the relationship between the variables.\n",
    "* **Efficient for small datasets:** Training can be relatively fast with manageable data sizes.\n",
    "* **Generalization:** Can perform well on unseen data due to their focus on capturing underlying relationships.\n",
    "\n",
    "**Weaknesses of model-based learning:**\n",
    "\n",
    "* **Sensitivity to model assumptions:** Choosing the right model type is crucial, as mismatched assumptions can lead to poor performance.\n",
    "* **Overfitting:** Can memorize training data without properly generalizing to unseen examples.\n",
    "* **Computationally expensive:** Training complex models with many parameters can be computationally intensive.\n",
    "\n",
    "**Overall, model-based learning algorithms provide a powerful way to understand and predict complex relationships in data. Their reliance on finding the best model parameters through optimization techniques makes them well-suited for tasks where a mathematical description of the data is desirable.**\n",
    "\n"
   ]
  },
  {
   "cell_type": "markdown",
   "id": "9086fcd8",
   "metadata": {},
   "source": [
    "## Q14. Can you name four of the main challenges in Machine Learning?\n"
   ]
  },
  {
   "cell_type": "markdown",
   "id": "18a9499a",
   "metadata": {},
   "source": [
    "Choosing just four of the main challenges in Machine Learning is tough, as it's a rapidly evolving field with diverse applications and complexities. However, four particularly prominent challenges stand out:\n",
    "\n",
    "**1. Data Quality and Quantity:**\n",
    "\n",
    "* **Quality:** Garbage in, garbage out. Noisy, incomplete, or inaccurate data can severely skew model predictions and hamper learning capabilities.\n",
    "* **Quantity:** Training robust models often requires substantial data, and acquiring or generating appropriate datasets can be resource-intensive and time-consuming.\n",
    "\n",
    "**2. Model complexity and Interpretability:**\n",
    "\n",
    "* **Complexity:** Powerful models like deep neural networks excel at performance, but their intricate inner workings can be difficult to understand. This lack of transparency hinders debugging and decision-making.\n",
    "* **Interpretability:** Understanding how and why a model makes predictions is crucial for building trust and ensuring fairness. Highly complex models often lack this interpretability.\n",
    "\n",
    "**3. Bias and Fairness:**\n",
    "\n",
    "* **Bias:** Machine learning models can inherit and amplify biases present in the training data, leading to discriminatory or unfair outcomes.\n",
    "* **Fairness:** Ensuring algorithms treat different groups of individuals equitably regardless of their background or other factors is a critical ethical challenge.\n",
    "\n",
    "**4. Scalability and Resource Constraints:**\n",
    "\n",
    "* **Scalability:** Real-world applications often involve massive datasets and real-time processing demands. Training and deploying models efficiently in such scenarios requires scalable algorithms and infrastructure.\n",
    "* **Resource constraints:** Limited computational resources can restrict the complexity of models and hinder their training and deployment, especially for resource-constrained devices.\n",
    "\n",
    "These are just a few of the prominent challenges in Machine Learning. Addressing them requires ongoing research, collaboration between diverse disciplines, and careful consideration of ethical implications. By tackling these challenges, we can unlock the full potential of Machine Learning for the benefit of society.\n",
    "\n",
    "\n",
    "\n"
   ]
  },
  {
   "cell_type": "markdown",
   "id": "688ac956",
   "metadata": {},
   "source": [
    "## Q15. If your model performs great on the training data but generalizes poorly to new instances, what is happening? Can you name three possible solutions?\n"
   ]
  },
  {
   "cell_type": "markdown",
   "id": "905ec193",
   "metadata": {},
   "source": [
    "If your model performs great on the training data but generalizes poorly to new instances, that's a classic case of **overfitting**. This means the model has memorized the training data too closely, capturing specific patterns and quirks instead of the underlying relationships that might hold for unseen examples.\n",
    "\n",
    "Here are three possible solutions to address overfitting:\n",
    "\n",
    "**1. Reduce model complexity:**\n",
    "\n",
    "* **Use simpler models:** Choose a model with fewer parameters or layers. Simpler models are less prone to capturing irrelevant details and have improved generalizability.\n",
    "* **Regularization techniques:** Apply techniques like L1 or L2 regularization that penalize large parameter values, forcing the model to focus on more generalizable patterns.\n",
    "\n",
    "**2. Increase training data:**\n",
    "\n",
    "* **Gather more data:** The more data the model sees, the less likely it is to memorize specific patterns of the existing data. Aim for diverse and representative data that captures the expected range of real-world examples.\n",
    "* **Data augmentation:** If gathering more data is difficult or expensive, consider data augmentation techniques like image flipping, cropping, or adding noise. This artificially expands the training data with variations of existing examples.\n",
    "\n",
    "**3. Prevent overfitting during training:**\n",
    "\n",
    "* **Early stopping:** Train the model for a limited time and stop before it starts overfitting on the training data. This can be done by monitoring a validation set and stopping when performance on the validation set starts to deteriorate.\n",
    "* **Dropout:** This technique randomly drops out neurons during training, forcing the model to rely on a broader ensemble of features and prevent overfitting to specific patterns.\n",
    "\n",
    "Choosing the best solution depends on the specific scenario and model, as each approach has its advantages and limitations. Experimenting with different techniques and monitoring the generalization performance on validation data is crucial to finding the optimal solution for your case.\n",
    "\n",
    "Remember, overfitting is a common challenge in machine learning, and addressing it effectively is vital for building models that perform well in real-world applications.\n",
    "\n",
    "\n"
   ]
  },
  {
   "cell_type": "markdown",
   "id": "667e84b3",
   "metadata": {},
   "source": [
    "## Q16. What is a test set and why would you want to use it?\n",
    "\n"
   ]
  },
  {
   "cell_type": "markdown",
   "id": "77c445f1",
   "metadata": {},
   "source": [
    "In machine learning, a **test set** is a portion of your data that is **held back from the training process** and used to **evaluate the final performance of your trained model** on **unseen data**. It's like the final exam after spending weeks studying: a way to assess how well your model truly understands the material (the data) beyond just memorizing the training examples.\n",
    "\n",
    "**Why use a test set?** There are several key reasons:\n",
    "\n",
    "* **Unbiased performance evaluation:** The training data has already been used to build and tune the model. Using it again to evaluate performance would be biased, as the model has already \"seen\" that data and optimized itself for it. The test set provides a neutral ground for testing its generalizations skills.\n",
    "* **Estimate model generalizability:** How well your model performs on unseen data is more indicative of its real-world effectiveness. The test set provides a realistic estimate of how the model will perform on new data it might encounter in actual applications.\n",
    "* **Detect overfitting:** Overfitting occurs when your model memorizes the training data too closely, capturing specific quirks and noise instead of the underlying relationships. The test set reveals if your model is overfitting, as its performance will likely drop significantly on unseen data.\n",
    "* **Compare different models:** If you're training multiple models or experimenting with different hyperparameters, the test set allows you to compare their performance objectively on unseen data and choose the one that generalizes best.\n",
    "\n",
    "**Overall, using a test set is essential for building robust and reliable machine learning models. It provides an unbiased and realistic evaluation of their performance, helping you avoid overfitting and ensuring they generalize well to new data.**\n",
    "\n",
    "**Here are some additional points to consider:**\n",
    "\n",
    "* The test set should be representative of the actual data your model will encounter in real-world scenarios.\n",
    "* It's typically kept separate from the training and validation sets throughout the training process.\n",
    "* There are different strategies for splitting your data into training, validation, and test sets depending on the size and nature of your dataset.\n",
    "\n",
    "\n"
   ]
  },
  {
   "cell_type": "markdown",
   "id": "7faebfba",
   "metadata": {},
   "source": [
    "## Q17. What is the purpose of a validation set?"
   ]
  },
  {
   "cell_type": "markdown",
   "id": "510d250c",
   "metadata": {},
   "source": [
    "A validation set in machine learning plays a crucial role in fine-tuning your model and maximizing its performance. While a test set is vital for evaluating the final model on unseen data, a validation set serves a different, yet equally important, purpose: **hyperparameter tuning**.\n",
    "\n",
    "Here's why you want to use a validation set:\n",
    "\n",
    "**1. Hyperparameter tuning:** Training data is used to learn the model's parameters, but **hyperparameters** control the learning process itself. Choosing the right hyperparameters, like learning rate in neural networks or number of neighbors in k-Nearest Neighbors, significantly impacts the model's performance. The validation set provides a **safe space** to experiment with different hyperparameter values and select the ones that lead to the best performance on **unseen data**, similar to a dress rehearsal before the final show.\n",
    "\n",
    "**2. Avoid overfitting:** Overfitting occurs when your model memorizes the training data too closely, losing its ability to generalize to unseen examples. Using the validation set to monitor performance while tuning hyperparameters allows you to identify this issue early on. If the model performs well on the training data but not on the validation set, it's a sign of overfitting, and you can adjust your hyperparameters or try different model architectures to avoid it.\n",
    "\n",
    "**3. Model selection:** If you're comparing multiple models, the validation set can help you choose the best one. Train each model with different hyperparameter settings and evaluate their performance on the validation set. The model that consistently performs best on unseen data is likely the most suitable for your task.\n",
    "\n",
    "**4. Early stopping:** Training a model for too long can lead to overfitting and a waste of computational resources. The validation set performance can indicate the optimal stopping point for training, preventing unnecessary iterations and improving efficiency.\n",
    "\n",
    "**Key differences between validation and test sets:**\n",
    "\n",
    "| Feature | Validation Set | Test Set |\n",
    "|---|---|---|\n",
    "| Purpose | Hyperparameter tuning, early stopping | Unbiased final performance evaluation |\n",
    "| Data access | Accessed during training | Never accessed during training |\n",
    "| Performance impact | Influences model development | No influence on model development |\n",
    "\n",
    "**Overall, the validation set is a powerful tool for improving your model's generalization and avoiding overfitting. By utilizing it for hyperparameter tuning, model selection, and early stopping, you can build robust and effective models that perform well on real-world data.**\n",
    "\n"
   ]
  },
  {
   "cell_type": "markdown",
   "id": "7f299233",
   "metadata": {},
   "source": [
    "## Q18. What can go wrong if you tune hyperparameters using the test set?"
   ]
  },
  {
   "cell_type": "markdown",
   "id": "e63eb29b",
   "metadata": {},
   "source": [
    "Tuning hyperparameters using the test set can be a **risky** and misleading practice in machine learning. It can lead to several problems that ultimately compromise the performance and reliability of your model. Here's why:\n",
    "\n",
    "**1. Loss of unbiased evaluation:** The test set is meant to be a completely **unseen** benchmark to assess your final model's performance on real-world data. If you use it for hyperparameter tuning, you essentially \"leak\" information about its specific patterns and quirks into the model development process. This biases the evaluation, making it appear better than it truly is on unseen data.\n",
    "\n",
    "**2. Overfitting to the test set:** Tuning hyperparameters based on the test set incentivizes the model to optimize its performance specifically for that particular data and its unique characteristics. This leads to **overfitting**, where the model memorizes the specific patterns of the test set instead of learning the generalizable relationships within the data. As a result, its performance on **new data** will likely drop significantly, rendering it impractical for real-world applications.\n",
    "\n",
    "**3. Loss of generalizability:** By optimizing for the test set, you sacrifice the model's ability to generalize to **unseen data**, which is the ultimate goal in machine learning. The model loses its ability to capture the broader relationships and patterns within the data and becomes highly sensitive to small variations in new examples.\n",
    "\n",
    "**4. Difficulty in comparing models:** If you've experimented with hyperparameters on the test set, comparing different models or hyperparameter choices becomes unreliable. Each model may have been \"fitted\" to the specific quirks of the test set, making it impossible to objectively assess their true generalizability.\n",
    "\n",
    "**5. Wasted resources:** Experimenting with hyperparameters on the test set wastes valuable data that could be used for other purposes, such as further analysis or building and comparing models. It might also lead to unnecessary training iterations and computational resources spent on optimizing for a less generalizable model.\n",
    "\n",
    "In summary, tuning hyperparameters using the test set is a **tempting shortcut** that can lead to severe consequences for your model's performance and reliability. Always remember to keep the test set completely **untouched** during training and hyperparameter tuning, and use a dedicated **validation set** for this purpose. By doing so, you can ensure your model is truly robust and generalizable to unseen data, maximizing its effectiveness in real-world applications.\n",
    "\n",
    "I hope this explanation clarifies the dangers of tuning hyperparameters with the test set and encourages you to follow proper practices for building reliable and successful machine learning models. \n"
   ]
  },
  {
   "cell_type": "markdown",
   "id": "bab6465e",
   "metadata": {},
   "source": [
    "## Q19. What is repeated cross-validation and why would you prefer it to using a single validation set?"
   ]
  },
  {
   "cell_type": "markdown",
   "id": "78ae2049",
   "metadata": {},
   "source": [
    "In machine learning, **repeated cross-validation** is a powerful technique that improves the reliability and generalizability of model performance estimations compared to using a single validation set. Here's why:\n",
    "\n",
    "**What is repeated cross-validation?**\n",
    "\n",
    "It involves performing the **cross-validation procedure multiple times**, each time with a different random split of the data into training, validation, and test sets. The average performance metrics across all rounds are then used as the final estimate of the model's performance on unseen data.\n",
    "\n",
    "**Advantages of repeated cross-validation:**\n",
    "\n",
    "* **Reduces variance:** Cross-validation already reduces the variance of performance estimates compared to simply evaluating the model on the training data. Repeating the process with different data splits further mitigates the impact of any specific split on the estimate, leading to a more stable and reliable assessment.\n",
    "* **Improves generalizability:** By exposing the model to different training and validation sets, repeated cross-validation provides a more comprehensive picture of its performance across diverse data subsets. This helps ensure the model learns generalizable patterns rather than memorizing specific features of the training data.\n",
    "* **Provides confidence intervals:** The variability in performance across different splits can be used to calculate confidence intervals around the average performance estimate. This quantifies the uncertainty associated with the estimate and provides valuable information about the model's robustness.\n",
    "* **Identifies overfitting:** If the results vary significantly across different splits, it might indicate overfitting, where the model is memorizing specific quirks of the training data. This helps diagnose potential issues and guide further model refinement.\n",
    "\n",
    "**When to prefer it over a single validation set:**\n",
    "\n",
    "* **Small datasets:** When your dataset is small, a single validation set might not be representative enough to provide a reliable estimate of performance. Repeated cross-validation allows you to leverage the entire dataset effectively, leading to more stable results.\n",
    "* **High variance in data:** For datasets with high variance, a single split might be skewed by particular data points. Repeating the process reduces the impact of such outliers and provides a more robust estimate.\n",
    "* **Need for confidence intervals:** If you need to quantify the uncertainty surrounding the performance estimate, repeated cross-validation provides the data necessary to calculate confidence intervals.\n",
    "\n",
    "**However, repeated cross-validation also has some drawbacks:**\n",
    "\n",
    "* **Increased computational cost:** Running the cross-validation procedure multiple times can be computationally expensive, especially for complex models or large datasets.\n",
    "* **Increased sensitivity to hyperparameters:** The choice of the number of repetitions and data splitting strategies can influence the results. Careful experimentation and comparison are necessary to ensure reliable estimates.\n",
    "\n",
    "**Overall, repeated cross-validation is a valuable technique for improving the reliability and generalizability of model performance estimates. While it has some limitations, its advantages often outweigh the drawbacks, making it a preferred choice over using a single validation set in many scenarios.**\n",
    "\n",
    "If you have any further questions about repeated cross-validation, its specific implementation strategies, or its comparison with other evaluation techniques.\n"
   ]
  },
  {
   "cell_type": "code",
   "execution_count": null,
   "id": "60f860a0",
   "metadata": {},
   "outputs": [],
   "source": [
    "\n"
   ]
  }
 ],
 "metadata": {
  "kernelspec": {
   "display_name": "Python 3 (ipykernel)",
   "language": "python",
   "name": "python3"
  },
  "language_info": {
   "codemirror_mode": {
    "name": "ipython",
    "version": 3
   },
   "file_extension": ".py",
   "mimetype": "text/x-python",
   "name": "python",
   "nbconvert_exporter": "python",
   "pygments_lexer": "ipython3",
   "version": "3.11.5"
  }
 },
 "nbformat": 4,
 "nbformat_minor": 5
}
